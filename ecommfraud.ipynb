{
 "cells": [
  {
   "cell_type": "markdown",
   "id": "cdfed87b",
   "metadata": {},
   "source": [
    "<h1>Introduction</h1>\n",
    "\n",
    "This dataset is included in the [Amazon fraud benchmark datasets](https://github.com/amazon-science/fraud-dataset-benchmark) which include a variety of datasets for testing and benchmarking purposes. The eCommerce Fraud dataset stands out in that the benchmark performances are particularly poor - the highest benchmark AUROC = 0.636 was achieved by AFD TFI, none of the AutoML models do not achieve AUROC > 0.55. This is very low for a benchmark dataset. There is also limited information about this dataset, as there are no data descriptions are given in the [kaggle page](https://www.kaggle.com/vbinh002/fraud-ecommerce).\n",
    "\n",
    "In this project, we explore this data to better understand why even enterprise-grade detection softwares performed so poorly. We then engineer new features and construct a prediction model that is able to capture the idiosyncrasis of this dataset, hopefully outperforming the benchmarks. \n",
    "\n",
    "The dataset used in this project was downloaded directly from Kaggle.\n",
    "\n",
    "The dataset contains 151,112 transactions, comprising 136,961 legitimate transactions (90.6%) and 14,151 fraudulent transactions (9.36%). \n",
    "\n",
    "Variables Included:\n",
    "\n",
    "    user_id, signup_time, purchase_time, purchase_value, device_id, source, browser, sex, age, ip_address, class\n",
    "\n",
    "    \n",
    "\n",
    "<h1>Result Summary</h1>\n",
    "\n",
    "- The shortest time_to_first_purchase observed amongst legitimate transactions was 137 seconds.\n",
    "\n",
    "- 7,600 transactions have a time_to_first_purchase of exactly 1 second, all of these are fraudulent.\n",
    "\n",
    "- Excluding transactions where time_to_first_purchase = 1 second, the shortest fraudulent time_to_first_purchase is 769 seconds.\n",
    "\n",
    "- We observed 760 ip_address that are associated with multiple transactions. 8360 transactions originate from these non-unique ip_address. of these, 7634 transactions are fraudulent.\n",
    "\n",
    "- We observed 6175 device_id that are associated with multiple transactions. 19331 transactions originate from these non-unique ip_address. of these, 10141 transactions are fraudulent.\n",
    "\n",
    "- Chi-squared tests on the browser and source variables show statistically significant differences between fraudulent and legitimate transactions.\n",
    "\n",
    "- We observed several anomalous behaviour in the data which strongly suggest that this dataset is synthetic. Some of the more obvious ones include:\n",
    "\n",
    "1. several transactions exhibit highly unusual patterns. For example, the device_id YLDDOCJIVHEJV is assocaited 4 transactions from 4 ip address in 4 different countries and 4 different sex and age over a period of 7 months. This device also registered transactions from both IE and Safari browsers which is technically unfeasible. Additionally, of these 4 transactions, only 1 is marked as fraudulent\n",
    "\n",
    "2. 21966 observations are associated with one of 21013 IP address that cannot be mapped to a country\n",
    "\n",
    "3. All transactions with seconds_to_first_purchase <= 1 are fraudulent, with the fastest legitimate transaction taking 137 seconds. After dropping transactions with seconds_to_first_purchase <=1, the remaining values of seconds_to_first_purchase appears to follow a uniform distribution for both fraudulent and legetimate transactions.\n",
    "\n",
    "4. Fraudulent purchases from the same device ID have a 1 second interval\n",
    "\n",
    "\n",
    "<h1>Prediction model </h1>\n",
    "\n",
    "We constructed a simple decision tree classifier using 5 features: \n",
    "- fast_transaction : bool\n",
    "        time_to_first_purchase in seconds < 45\n",
    "- repeated_ip_address: bool\n",
    "        ip address in either training OR testing set\n",
    "- repeated_device_id: bool\n",
    "        device_id in either training OR testing set\n",
    "- browser: str\n",
    "        the browser used\n",
    "- source: str\n",
    "        the source of the purchase\n",
    "\n",
    "We were able to achieved an average AUROC, precision, and recall of 0.769, 1, and 0.537 respectively across 5-fold cross validations. Outperforming the benchmark AUROC of 0.636. \n",
    "\n",
    "\n",
    "<h1> Conclusion </h1>\n",
    "This data is very likely to be synthetic and contains various anomalies not usually present in real-world datasets. We believe that the anomalous nature of the data throws off fraud detection models calibrated on real-world data thus leading to the low benchmark performances observed.\n",
    "\n",
    "This file was also uploaded to the dataset [kaggle page](https://www.kaggle.com/vbinh002/fraud-ecommerce)."
   ]
  },
  {
   "cell_type": "code",
   "execution_count": 27,
   "id": "3b84b278",
   "metadata": {},
   "outputs": [],
   "source": [
    "import pandas as pd\n",
    "import numpy as np\n",
    "import datetime\n",
    "import seaborn as sns\n",
    "import matplotlib.pyplot as plt\n",
    "from scipy import stats"
   ]
  },
  {
   "cell_type": "code",
   "execution_count": 5,
   "id": "b35f0bab",
   "metadata": {},
   "outputs": [
    {
     "name": "stderr",
     "output_type": "stream",
     "text": [
      "<>:1: SyntaxWarning: invalid escape sequence '\\e'\n",
      "<>:2: SyntaxWarning: invalid escape sequence '\\e'\n",
      "<>:1: SyntaxWarning: invalid escape sequence '\\e'\n",
      "<>:2: SyntaxWarning: invalid escape sequence '\\e'\n",
      "C:\\Users\\MingX\\AppData\\Local\\Temp\\ipykernel_17580\\3819648352.py:1: SyntaxWarning: invalid escape sequence '\\e'\n",
      "  purchase_data = pd.read_csv('data\\ecommfraud\\Fraud_Data.csv')\n",
      "C:\\Users\\MingX\\AppData\\Local\\Temp\\ipykernel_17580\\3819648352.py:2: SyntaxWarning: invalid escape sequence '\\e'\n",
      "  ip_data = pd.read_csv('data\\ecommfraud\\IpAddress_to_Country.csv')\n"
     ]
    }
   ],
   "source": [
    "purchase_data = pd.read_csv('data\\ecommfraud\\Fraud_Data.csv')\n",
    "ip_data = pd.read_csv('data\\ecommfraud\\IpAddress_to_Country.csv')"
   ]
  },
  {
   "cell_type": "code",
   "execution_count": 7,
   "id": "0358a3a7",
   "metadata": {},
   "outputs": [
    {
     "data": {
      "text/html": [
       "<div>\n",
       "<style scoped>\n",
       "    .dataframe tbody tr th:only-of-type {\n",
       "        vertical-align: middle;\n",
       "    }\n",
       "\n",
       "    .dataframe tbody tr th {\n",
       "        vertical-align: top;\n",
       "    }\n",
       "\n",
       "    .dataframe thead th {\n",
       "        text-align: right;\n",
       "    }\n",
       "</style>\n",
       "<table border=\"1\" class=\"dataframe\">\n",
       "  <thead>\n",
       "    <tr style=\"text-align: right;\">\n",
       "      <th></th>\n",
       "      <th>lower_bound_ip_address</th>\n",
       "      <th>upper_bound_ip_address</th>\n",
       "      <th>country</th>\n",
       "    </tr>\n",
       "  </thead>\n",
       "  <tbody>\n",
       "    <tr>\n",
       "      <th>0</th>\n",
       "      <td>1.677722e+07</td>\n",
       "      <td>16777471</td>\n",
       "      <td>Australia</td>\n",
       "    </tr>\n",
       "    <tr>\n",
       "      <th>1</th>\n",
       "      <td>1.677747e+07</td>\n",
       "      <td>16777727</td>\n",
       "      <td>China</td>\n",
       "    </tr>\n",
       "    <tr>\n",
       "      <th>2</th>\n",
       "      <td>1.677773e+07</td>\n",
       "      <td>16778239</td>\n",
       "      <td>China</td>\n",
       "    </tr>\n",
       "    <tr>\n",
       "      <th>3</th>\n",
       "      <td>1.677824e+07</td>\n",
       "      <td>16779263</td>\n",
       "      <td>Australia</td>\n",
       "    </tr>\n",
       "    <tr>\n",
       "      <th>4</th>\n",
       "      <td>1.677926e+07</td>\n",
       "      <td>16781311</td>\n",
       "      <td>China</td>\n",
       "    </tr>\n",
       "    <tr>\n",
       "      <th>...</th>\n",
       "      <td>...</td>\n",
       "      <td>...</td>\n",
       "      <td>...</td>\n",
       "    </tr>\n",
       "    <tr>\n",
       "      <th>138841</th>\n",
       "      <td>3.758092e+09</td>\n",
       "      <td>3758093311</td>\n",
       "      <td>Hong Kong</td>\n",
       "    </tr>\n",
       "    <tr>\n",
       "      <th>138842</th>\n",
       "      <td>3.758093e+09</td>\n",
       "      <td>3758094335</td>\n",
       "      <td>India</td>\n",
       "    </tr>\n",
       "    <tr>\n",
       "      <th>138843</th>\n",
       "      <td>3.758095e+09</td>\n",
       "      <td>3758095871</td>\n",
       "      <td>China</td>\n",
       "    </tr>\n",
       "    <tr>\n",
       "      <th>138844</th>\n",
       "      <td>3.758096e+09</td>\n",
       "      <td>3758096127</td>\n",
       "      <td>Singapore</td>\n",
       "    </tr>\n",
       "    <tr>\n",
       "      <th>138845</th>\n",
       "      <td>3.758096e+09</td>\n",
       "      <td>3758096383</td>\n",
       "      <td>Australia</td>\n",
       "    </tr>\n",
       "  </tbody>\n",
       "</table>\n",
       "<p>138846 rows × 3 columns</p>\n",
       "</div>"
      ],
      "text/plain": [
       "        lower_bound_ip_address  upper_bound_ip_address    country\n",
       "0                 1.677722e+07                16777471  Australia\n",
       "1                 1.677747e+07                16777727      China\n",
       "2                 1.677773e+07                16778239      China\n",
       "3                 1.677824e+07                16779263  Australia\n",
       "4                 1.677926e+07                16781311      China\n",
       "...                        ...                     ...        ...\n",
       "138841            3.758092e+09              3758093311  Hong Kong\n",
       "138842            3.758093e+09              3758094335      India\n",
       "138843            3.758095e+09              3758095871      China\n",
       "138844            3.758096e+09              3758096127  Singapore\n",
       "138845            3.758096e+09              3758096383  Australia\n",
       "\n",
       "[138846 rows x 3 columns]"
      ]
     },
     "execution_count": 7,
     "metadata": {},
     "output_type": "execute_result"
    }
   ],
   "source": [
    "ip_data"
   ]
  },
  {
   "cell_type": "code",
   "execution_count": null,
   "id": "b8d8ac65",
   "metadata": {},
   "outputs": [],
   "source": [
    "# derive time_to_first_purchase and convert to seconds\n",
    "purchase_data[\"time_to_first_purchase\"] = pd.to_datetime(purchase_data[\"purchase_time\"]) - pd.to_datetime(purchase_data[\"signup_time\"])\n",
    "purchase_data['seconds_to_first_purchase'] = purchase_data[\"time_to_first_purchase\"].dt.total_seconds()"
   ]
  },
  {
   "cell_type": "code",
   "execution_count": 161,
   "id": "6a0b9a59",
   "metadata": {},
   "outputs": [
    {
     "data": {
      "text/plain": [
       "<Axes: ylabel='Count'>"
      ]
     },
     "execution_count": 161,
     "metadata": {},
     "output_type": "execute_result"
    },
    {
     "data": {
      "image/png": "[encoded data removed]",
      "text/plain": [
       "<Figure size 640x480 with 1 Axes>"
      ]
     },
     "metadata": {},
     "output_type": "display_data"
    }
   ],
   "source": [
    "sns.histplot([i.total_seconds() for i in purchase_data.loc[purchase_data['class'] ==1 , \"time_to_first_purchase\"]], color='red')\n",
    "sns.histplot([i.total_seconds() for i in purchase_data.loc[purchase_data['class'] ==0 , \"time_to_first_purchase\"]], color='lightblue')"
   ]
  },
  {
   "cell_type": "code",
   "execution_count": 167,
   "id": "6a1c977c",
   "metadata": {},
   "outputs": [
    {
     "data": {
      "text/plain": [
       "<Axes: xlabel='purchase_value', ylabel='Density'>"
      ]
     },
     "execution_count": 167,
     "metadata": {},
     "output_type": "execute_result"
    },
    {
     "data": {
      "image/png": "[encoded data removed]",
      "text/plain": [
       "<Figure size 640x480 with 1 Axes>"
      ]
     },
     "metadata": {},
     "output_type": "display_data"
    }
   ],
   "source": [
    "sns.kdeplot(purchase_data.loc[purchase_data['class'] ==1 , \"purchase_value\"], color='red')\n",
    "sns.kdeplot(purchase_data.loc[purchase_data['class'] ==0 , \"purchase_value\"], color='lightblue')"
   ]
  },
  {
   "cell_type": "code",
   "execution_count": 168,
   "id": "81c66a58",
   "metadata": {},
   "outputs": [
    {
     "data": {
      "text/plain": [
       "KstestResult(statistic=0.011553688322815836, pvalue=0.06464410554939426, statistic_location=23, statistic_sign=-1)"
      ]
     },
     "execution_count": 168,
     "metadata": {},
     "output_type": "execute_result"
    }
   ],
   "source": [
    "stats.kstest(purchase_data.loc[purchase_data['class'] ==0 , \"purchase_value\"] , purchase_data.loc[purchase_data['class'] ==1 , \"purchase_value\"])"
   ]
  },
  {
   "cell_type": "code",
   "execution_count": 166,
   "id": "22ac1afd",
   "metadata": {},
   "outputs": [
    {
     "data": {
      "text/plain": [
       "<Axes: xlabel='age', ylabel='Density'>"
      ]
     },
     "execution_count": 166,
     "metadata": {},
     "output_type": "execute_result"
    },
    {
     "data": {
      "image/png": "[encoded data removed]",
      "text/plain": [
       "<Figure size 640x480 with 1 Axes>"
      ]
     },
     "metadata": {},
     "output_type": "display_data"
    }
   ],
   "source": [
    "sns.kdeplot(purchase_data.loc[purchase_data['class'] ==1 , \"age\"], color='red')\n",
    "sns.kdeplot(purchase_data.loc[purchase_data['class'] ==0 , \"age\"], color='lightblue')"
   ]
  },
  {
   "cell_type": "code",
   "execution_count": 169,
   "id": "a0861ad7",
   "metadata": {},
   "outputs": [
    {
     "data": {
      "text/plain": [
       "KstestResult(statistic=0.019750843366254878, pvalue=8.894844539272973e-05, statistic_location=31, statistic_sign=1)"
      ]
     },
     "execution_count": 169,
     "metadata": {},
     "output_type": "execute_result"
    }
   ],
   "source": [
    "stats.kstest(purchase_data.loc[purchase_data['class'] ==0 , \"age\"] , purchase_data.loc[purchase_data['class'] ==1 , \"age\"])"
   ]
  },
  {
   "cell_type": "markdown",
   "id": "d1bff062",
   "metadata": {},
   "source": [
    "even thought the KS-test is significant, the shape of the KDE looks too similar for me to confidently use age as a feature"
   ]
  },
  {
   "cell_type": "markdown",
   "id": "4c557272",
   "metadata": {},
   "source": [
    "we now examine the device id variable"
   ]
  },
  {
   "cell_type": "code",
   "execution_count": 12,
   "id": "dd1dd004",
   "metadata": {},
   "outputs": [
    {
     "data": {
      "text/plain": [
       "137956"
      ]
     },
     "execution_count": 12,
     "metadata": {},
     "output_type": "execute_result"
    }
   ],
   "source": [
    "purchase_data['device_id'].nunique()"
   ]
  },
  {
   "cell_type": "code",
   "execution_count": 14,
   "id": "c8d27dc3",
   "metadata": {},
   "outputs": [],
   "source": [
    "repeated_device_ids = purchase_data['device_id'].value_counts() > 1\n",
    "repeated_device_ids = repeated_device_ids[repeated_device_ids].index.tolist()"
   ]
  },
  {
   "cell_type": "code",
   "execution_count": 16,
   "id": "735ce209",
   "metadata": {},
   "outputs": [
    {
     "data": {
      "text/plain": [
       "6175"
      ]
     },
     "execution_count": 16,
     "metadata": {},
     "output_type": "execute_result"
    }
   ],
   "source": [
    "len(repeated_device_ids)"
   ]
  },
  {
   "cell_type": "code",
   "execution_count": null,
   "id": "aef8ded2",
   "metadata": {},
   "outputs": [
    {
     "data": {
      "text/html": [
       "<div>\n",
       "<style scoped>\n",
       "    .dataframe tbody tr th:only-of-type {\n",
       "        vertical-align: middle;\n",
       "    }\n",
       "\n",
       "    .dataframe tbody tr th {\n",
       "        vertical-align: top;\n",
       "    }\n",
       "\n",
       "    .dataframe thead th {\n",
       "        text-align: right;\n",
       "    }\n",
       "</style>\n",
       "<table border=\"1\" class=\"dataframe\">\n",
       "  <thead>\n",
       "    <tr style=\"text-align: right;\">\n",
       "      <th></th>\n",
       "      <th>user_id</th>\n",
       "      <th>signup_time</th>\n",
       "      <th>purchase_time</th>\n",
       "      <th>purchase_value</th>\n",
       "      <th>device_id</th>\n",
       "      <th>source</th>\n",
       "      <th>browser</th>\n",
       "      <th>sex</th>\n",
       "      <th>age</th>\n",
       "      <th>ip_address</th>\n",
       "      <th>class</th>\n",
       "      <th>time_to_first_purchase</th>\n",
       "      <th>country</th>\n",
       "    </tr>\n",
       "  </thead>\n",
       "  <tbody>\n",
       "    <tr>\n",
       "      <th>56146</th>\n",
       "      <td>314594</td>\n",
       "      <td>2015-01-01 04:25:29</td>\n",
       "      <td>2015-01-01 04:25:30</td>\n",
       "      <td>57</td>\n",
       "      <td>AAAXXOZJRZRAO</td>\n",
       "      <td>Ads</td>\n",
       "      <td>FireFox</td>\n",
       "      <td>F</td>\n",
       "      <td>36</td>\n",
       "      <td>1.377849e+09</td>\n",
       "      <td>1</td>\n",
       "      <td>0 days 00:00:01</td>\n",
       "      <td>United Kingdom</td>\n",
       "    </tr>\n",
       "    <tr>\n",
       "      <th>65899</th>\n",
       "      <td>100914</td>\n",
       "      <td>2015-01-01 04:25:27</td>\n",
       "      <td>2015-01-01 04:25:28</td>\n",
       "      <td>57</td>\n",
       "      <td>AAAXXOZJRZRAO</td>\n",
       "      <td>Ads</td>\n",
       "      <td>FireFox</td>\n",
       "      <td>F</td>\n",
       "      <td>36</td>\n",
       "      <td>1.377849e+09</td>\n",
       "      <td>1</td>\n",
       "      <td>0 days 00:00:01</td>\n",
       "      <td>United Kingdom</td>\n",
       "    </tr>\n",
       "    <tr>\n",
       "      <th>69175</th>\n",
       "      <td>325729</td>\n",
       "      <td>2015-01-01 04:25:22</td>\n",
       "      <td>2015-01-01 04:25:23</td>\n",
       "      <td>57</td>\n",
       "      <td>AAAXXOZJRZRAO</td>\n",
       "      <td>Ads</td>\n",
       "      <td>FireFox</td>\n",
       "      <td>F</td>\n",
       "      <td>36</td>\n",
       "      <td>1.377849e+09</td>\n",
       "      <td>1</td>\n",
       "      <td>0 days 00:00:01</td>\n",
       "      <td>United Kingdom</td>\n",
       "    </tr>\n",
       "    <tr>\n",
       "      <th>35860</th>\n",
       "      <td>64674</td>\n",
       "      <td>2015-01-01 04:25:23</td>\n",
       "      <td>2015-01-01 04:25:24</td>\n",
       "      <td>57</td>\n",
       "      <td>AAAXXOZJRZRAO</td>\n",
       "      <td>Ads</td>\n",
       "      <td>FireFox</td>\n",
       "      <td>F</td>\n",
       "      <td>36</td>\n",
       "      <td>1.377849e+09</td>\n",
       "      <td>1</td>\n",
       "      <td>0 days 00:00:01</td>\n",
       "      <td>United Kingdom</td>\n",
       "    </tr>\n",
       "    <tr>\n",
       "      <th>44484</th>\n",
       "      <td>299963</td>\n",
       "      <td>2015-01-01 04:25:26</td>\n",
       "      <td>2015-01-01 04:25:27</td>\n",
       "      <td>57</td>\n",
       "      <td>AAAXXOZJRZRAO</td>\n",
       "      <td>Ads</td>\n",
       "      <td>FireFox</td>\n",
       "      <td>F</td>\n",
       "      <td>36</td>\n",
       "      <td>1.377849e+09</td>\n",
       "      <td>1</td>\n",
       "      <td>0 days 00:00:01</td>\n",
       "      <td>United Kingdom</td>\n",
       "    </tr>\n",
       "    <tr>\n",
       "      <th>...</th>\n",
       "      <td>...</td>\n",
       "      <td>...</td>\n",
       "      <td>...</td>\n",
       "      <td>...</td>\n",
       "      <td>...</td>\n",
       "      <td>...</td>\n",
       "      <td>...</td>\n",
       "      <td>...</td>\n",
       "      <td>...</td>\n",
       "      <td>...</td>\n",
       "      <td>...</td>\n",
       "      <td>...</td>\n",
       "      <td>...</td>\n",
       "    </tr>\n",
       "    <tr>\n",
       "      <th>83433</th>\n",
       "      <td>27633</td>\n",
       "      <td>2015-01-07 09:04:09</td>\n",
       "      <td>2015-01-07 09:04:10</td>\n",
       "      <td>84</td>\n",
       "      <td>ZZQPVRBHRMVYD</td>\n",
       "      <td>Direct</td>\n",
       "      <td>Safari</td>\n",
       "      <td>F</td>\n",
       "      <td>28</td>\n",
       "      <td>1.136982e+09</td>\n",
       "      <td>1</td>\n",
       "      <td>0 days 00:00:01</td>\n",
       "      <td>United States</td>\n",
       "    </tr>\n",
       "    <tr>\n",
       "      <th>71151</th>\n",
       "      <td>271121</td>\n",
       "      <td>2015-01-21 10:16:22</td>\n",
       "      <td>2015-03-05 08:43:58</td>\n",
       "      <td>46</td>\n",
       "      <td>ZZUBRTQITHWAO</td>\n",
       "      <td>Ads</td>\n",
       "      <td>IE</td>\n",
       "      <td>M</td>\n",
       "      <td>41</td>\n",
       "      <td>2.216457e+09</td>\n",
       "      <td>1</td>\n",
       "      <td>42 days 22:27:36</td>\n",
       "      <td>United States</td>\n",
       "    </tr>\n",
       "    <tr>\n",
       "      <th>100720</th>\n",
       "      <td>27927</td>\n",
       "      <td>2015-04-23 16:46:51</td>\n",
       "      <td>2015-07-18 16:33:15</td>\n",
       "      <td>21</td>\n",
       "      <td>ZZUBRTQITHWAO</td>\n",
       "      <td>Direct</td>\n",
       "      <td>Chrome</td>\n",
       "      <td>M</td>\n",
       "      <td>26</td>\n",
       "      <td>1.665132e+09</td>\n",
       "      <td>0</td>\n",
       "      <td>85 days 23:46:24</td>\n",
       "      <td>United States</td>\n",
       "    </tr>\n",
       "    <tr>\n",
       "      <th>62466</th>\n",
       "      <td>231708</td>\n",
       "      <td>2015-03-21 14:32:46</td>\n",
       "      <td>2015-03-31 11:47:40</td>\n",
       "      <td>23</td>\n",
       "      <td>ZZYPLUFCXTHUS</td>\n",
       "      <td>SEO</td>\n",
       "      <td>FireFox</td>\n",
       "      <td>F</td>\n",
       "      <td>33</td>\n",
       "      <td>1.428221e+09</td>\n",
       "      <td>0</td>\n",
       "      <td>9 days 21:14:54</td>\n",
       "      <td>Italy</td>\n",
       "    </tr>\n",
       "    <tr>\n",
       "      <th>87509</th>\n",
       "      <td>364653</td>\n",
       "      <td>2015-02-28 11:45:25</td>\n",
       "      <td>2015-06-19 11:48:16</td>\n",
       "      <td>26</td>\n",
       "      <td>ZZYPLUFCXTHUS</td>\n",
       "      <td>Ads</td>\n",
       "      <td>Chrome</td>\n",
       "      <td>M</td>\n",
       "      <td>24</td>\n",
       "      <td>1.201034e+09</td>\n",
       "      <td>0</td>\n",
       "      <td>111 days 00:02:51</td>\n",
       "      <td>United States</td>\n",
       "    </tr>\n",
       "  </tbody>\n",
       "</table>\n",
       "<p>19331 rows × 13 columns</p>\n",
       "</div>"
      ],
      "text/plain": [
       "        user_id          signup_time        purchase_time  purchase_value  \\\n",
       "56146    314594  2015-01-01 04:25:29  2015-01-01 04:25:30              57   \n",
       "65899    100914  2015-01-01 04:25:27  2015-01-01 04:25:28              57   \n",
       "69175    325729  2015-01-01 04:25:22  2015-01-01 04:25:23              57   \n",
       "35860     64674  2015-01-01 04:25:23  2015-01-01 04:25:24              57   \n",
       "44484    299963  2015-01-01 04:25:26  2015-01-01 04:25:27              57   \n",
       "...         ...                  ...                  ...             ...   \n",
       "83433     27633  2015-01-07 09:04:09  2015-01-07 09:04:10              84   \n",
       "71151    271121  2015-01-21 10:16:22  2015-03-05 08:43:58              46   \n",
       "100720    27927  2015-04-23 16:46:51  2015-07-18 16:33:15              21   \n",
       "62466    231708  2015-03-21 14:32:46  2015-03-31 11:47:40              23   \n",
       "87509    364653  2015-02-28 11:45:25  2015-06-19 11:48:16              26   \n",
       "\n",
       "            device_id  source  browser sex  age    ip_address  class  \\\n",
       "56146   AAAXXOZJRZRAO     Ads  FireFox   F   36  1.377849e+09      1   \n",
       "65899   AAAXXOZJRZRAO     Ads  FireFox   F   36  1.377849e+09      1   \n",
       "69175   AAAXXOZJRZRAO     Ads  FireFox   F   36  1.377849e+09      1   \n",
       "35860   AAAXXOZJRZRAO     Ads  FireFox   F   36  1.377849e+09      1   \n",
       "44484   AAAXXOZJRZRAO     Ads  FireFox   F   36  1.377849e+09      1   \n",
       "...               ...     ...      ...  ..  ...           ...    ...   \n",
       "83433   ZZQPVRBHRMVYD  Direct   Safari   F   28  1.136982e+09      1   \n",
       "71151   ZZUBRTQITHWAO     Ads       IE   M   41  2.216457e+09      1   \n",
       "100720  ZZUBRTQITHWAO  Direct   Chrome   M   26  1.665132e+09      0   \n",
       "62466   ZZYPLUFCXTHUS     SEO  FireFox   F   33  1.428221e+09      0   \n",
       "87509   ZZYPLUFCXTHUS     Ads   Chrome   M   24  1.201034e+09      0   \n",
       "\n",
       "       time_to_first_purchase         country  \n",
       "56146         0 days 00:00:01  United Kingdom  \n",
       "65899         0 days 00:00:01  United Kingdom  \n",
       "69175         0 days 00:00:01  United Kingdom  \n",
       "35860         0 days 00:00:01  United Kingdom  \n",
       "44484         0 days 00:00:01  United Kingdom  \n",
       "...                       ...             ...  \n",
       "83433         0 days 00:00:01   United States  \n",
       "71151        42 days 22:27:36   United States  \n",
       "100720       85 days 23:46:24   United States  \n",
       "62466         9 days 21:14:54           Italy  \n",
       "87509       111 days 00:02:51   United States  \n",
       "\n",
       "[19331 rows x 13 columns]"
      ]
     },
     "execution_count": 135,
     "metadata": {},
     "output_type": "execute_result"
    }
   ],
   "source": [
    "purchase_data.loc[purchase_data[\"device_id\"].isin(repeated_device_ids) ].sort_values(by=['device_id'])"
   ]
  },
  {
   "cell_type": "code",
   "execution_count": 142,
   "id": "51103556",
   "metadata": {},
   "outputs": [
    {
     "data": {
      "text/plain": [
       "device_id\n",
       "YLDDOCJIVHEJV    4\n",
       "TBEXEPAUWGUWW    3\n",
       "YPNQYYMDKDMCZ    3\n",
       "LRZJOSJTQEHEX    3\n",
       "YOTQPOMBDUNAN    3\n",
       "                ..\n",
       "TPFOJJWAHTSTF    1\n",
       "TPDHPKWICQKTG    1\n",
       "FSWIJQFVCTLAV    1\n",
       "TOUAUOZTWZIJX    1\n",
       "AAAXXOZJRZRAO    1\n",
       "Name: ip_address, Length: 6175, dtype: int64"
      ]
     },
     "execution_count": 142,
     "metadata": {},
     "output_type": "execute_result"
    }
   ],
   "source": [
    "purchase_data.loc[purchase_data[\"device_id\"].isin(repeated_device_ids) ].sort_values(by=['device_id']).groupby(\"device_id\")['ip_address'].nunique().sort_values(ascending=False)"
   ]
  },
  {
   "cell_type": "code",
   "execution_count": 144,
   "id": "7a7337b2",
   "metadata": {},
   "outputs": [
    {
     "data": {
      "text/html": [
       "<div>\n",
       "<style scoped>\n",
       "    .dataframe tbody tr th:only-of-type {\n",
       "        vertical-align: middle;\n",
       "    }\n",
       "\n",
       "    .dataframe tbody tr th {\n",
       "        vertical-align: top;\n",
       "    }\n",
       "\n",
       "    .dataframe thead th {\n",
       "        text-align: right;\n",
       "    }\n",
       "</style>\n",
       "<table border=\"1\" class=\"dataframe\">\n",
       "  <thead>\n",
       "    <tr style=\"text-align: right;\">\n",
       "      <th></th>\n",
       "      <th>user_id</th>\n",
       "      <th>signup_time</th>\n",
       "      <th>purchase_time</th>\n",
       "      <th>purchase_value</th>\n",
       "      <th>device_id</th>\n",
       "      <th>source</th>\n",
       "      <th>browser</th>\n",
       "      <th>sex</th>\n",
       "      <th>age</th>\n",
       "      <th>ip_address</th>\n",
       "      <th>class</th>\n",
       "      <th>time_to_first_purchase</th>\n",
       "      <th>country</th>\n",
       "    </tr>\n",
       "  </thead>\n",
       "  <tbody>\n",
       "    <tr>\n",
       "      <th>569</th>\n",
       "      <td>266102</td>\n",
       "      <td>2015-07-17 21:05:07</td>\n",
       "      <td>2015-10-02 21:00:12</td>\n",
       "      <td>11</td>\n",
       "      <td>YLDDOCJIVHEJV</td>\n",
       "      <td>SEO</td>\n",
       "      <td>IE</td>\n",
       "      <td>M</td>\n",
       "      <td>32</td>\n",
       "      <td>2.382805e+09</td>\n",
       "      <td>1</td>\n",
       "      <td>76 days 23:55:05</td>\n",
       "      <td>Canada</td>\n",
       "    </tr>\n",
       "    <tr>\n",
       "      <th>4521</th>\n",
       "      <td>314241</td>\n",
       "      <td>2015-02-27 11:00:12</td>\n",
       "      <td>2015-03-26 19:17:55</td>\n",
       "      <td>46</td>\n",
       "      <td>YLDDOCJIVHEJV</td>\n",
       "      <td>SEO</td>\n",
       "      <td>Safari</td>\n",
       "      <td>M</td>\n",
       "      <td>31</td>\n",
       "      <td>2.841507e+09</td>\n",
       "      <td>0</td>\n",
       "      <td>27 days 08:17:43</td>\n",
       "      <td>United States</td>\n",
       "    </tr>\n",
       "    <tr>\n",
       "      <th>46086</th>\n",
       "      <td>264353</td>\n",
       "      <td>2015-07-06 19:01:33</td>\n",
       "      <td>2015-07-08 13:27:33</td>\n",
       "      <td>11</td>\n",
       "      <td>YLDDOCJIVHEJV</td>\n",
       "      <td>SEO</td>\n",
       "      <td>IE</td>\n",
       "      <td>F</td>\n",
       "      <td>19</td>\n",
       "      <td>4.150972e+09</td>\n",
       "      <td>0</td>\n",
       "      <td>1 days 18:26:00</td>\n",
       "      <td>NaN</td>\n",
       "    </tr>\n",
       "    <tr>\n",
       "      <th>107328</th>\n",
       "      <td>23000</td>\n",
       "      <td>2015-01-08 04:03:09</td>\n",
       "      <td>2015-04-17 01:32:18</td>\n",
       "      <td>21</td>\n",
       "      <td>YLDDOCJIVHEJV</td>\n",
       "      <td>Ads</td>\n",
       "      <td>IE</td>\n",
       "      <td>M</td>\n",
       "      <td>39</td>\n",
       "      <td>1.941386e+09</td>\n",
       "      <td>0</td>\n",
       "      <td>98 days 21:29:09</td>\n",
       "      <td>China</td>\n",
       "    </tr>\n",
       "  </tbody>\n",
       "</table>\n",
       "</div>"
      ],
      "text/plain": [
       "        user_id          signup_time        purchase_time  purchase_value  \\\n",
       "569      266102  2015-07-17 21:05:07  2015-10-02 21:00:12              11   \n",
       "4521     314241  2015-02-27 11:00:12  2015-03-26 19:17:55              46   \n",
       "46086    264353  2015-07-06 19:01:33  2015-07-08 13:27:33              11   \n",
       "107328    23000  2015-01-08 04:03:09  2015-04-17 01:32:18              21   \n",
       "\n",
       "            device_id source browser sex  age    ip_address  class  \\\n",
       "569     YLDDOCJIVHEJV    SEO      IE   M   32  2.382805e+09      1   \n",
       "4521    YLDDOCJIVHEJV    SEO  Safari   M   31  2.841507e+09      0   \n",
       "46086   YLDDOCJIVHEJV    SEO      IE   F   19  4.150972e+09      0   \n",
       "107328  YLDDOCJIVHEJV    Ads      IE   M   39  1.941386e+09      0   \n",
       "\n",
       "       time_to_first_purchase        country  \n",
       "569          76 days 23:55:05         Canada  \n",
       "4521         27 days 08:17:43  United States  \n",
       "46086         1 days 18:26:00            NaN  \n",
       "107328       98 days 21:29:09          China  "
      ]
     },
     "execution_count": 144,
     "metadata": {},
     "output_type": "execute_result"
    }
   ],
   "source": [
    "purchase_data.loc[purchase_data[\"device_id\"].isin(['YLDDOCJIVHEJV'])]"
   ]
  },
  {
   "cell_type": "markdown",
   "id": "be23ac75",
   "metadata": {},
   "source": [
    "This Device id is highly anomolous. device_id is expected to be unique, the fact that the same device can register transaction in 3 (or 4) countries across 4 people within a period of 7 months is very strange, furthermore, this device is registering purchases from IE and safari. trying to install IE on an apple device or Safari on a mac device is extremely unfeasible. This suggest that there might be some mislabelling in this dataset or that this data is synthetic in nature"
   ]
  },
  {
   "cell_type": "code",
   "execution_count": 174,
   "id": "18883ec7",
   "metadata": {},
   "outputs": [
    {
     "data": {
      "text/plain": [
       "6175"
      ]
     },
     "execution_count": 174,
     "metadata": {},
     "output_type": "execute_result"
    }
   ],
   "source": [
    "len(repeated_device_ids)"
   ]
  },
  {
   "cell_type": "code",
   "execution_count": 173,
   "id": "40203bf3",
   "metadata": {},
   "outputs": [
    {
     "data": {
      "text/plain": [
       "10141"
      ]
     },
     "execution_count": 173,
     "metadata": {},
     "output_type": "execute_result"
    }
   ],
   "source": [
    "purchase_data.loc[purchase_data[\"device_id\"].isin(repeated_device_ids),'class' ].sum()"
   ]
  },
  {
   "cell_type": "code",
   "execution_count": 177,
   "id": "5365f574",
   "metadata": {},
   "outputs": [
    {
     "data": {
      "text/plain": [
       "14151"
      ]
     },
     "execution_count": 177,
     "metadata": {},
     "output_type": "execute_result"
    }
   ],
   "source": [
    "purchase_data.loc[~purchase_data[\"ip_address\"].isin(repeated_device_ids),'class' ].sum()"
   ]
  },
  {
   "cell_type": "markdown",
   "id": "95dae094",
   "metadata": {},
   "source": [
    "19331 entries originate from non unique device id of these  10141 are fraudulent, we observed  6175 non unique device ids"
   ]
  },
  {
   "cell_type": "code",
   "execution_count": null,
   "id": "816f987f",
   "metadata": {},
   "outputs": [
    {
     "data": {
      "text/html": [
       "<div>\n",
       "<style scoped>\n",
       "    .dataframe tbody tr th:only-of-type {\n",
       "        vertical-align: middle;\n",
       "    }\n",
       "\n",
       "    .dataframe tbody tr th {\n",
       "        vertical-align: top;\n",
       "    }\n",
       "\n",
       "    .dataframe thead th {\n",
       "        text-align: right;\n",
       "    }\n",
       "</style>\n",
       "<table border=\"1\" class=\"dataframe\">\n",
       "  <thead>\n",
       "    <tr style=\"text-align: right;\">\n",
       "      <th></th>\n",
       "      <th>user_id</th>\n",
       "      <th>signup_time</th>\n",
       "      <th>purchase_time</th>\n",
       "      <th>purchase_value</th>\n",
       "      <th>device_id</th>\n",
       "      <th>source</th>\n",
       "      <th>browser</th>\n",
       "      <th>sex</th>\n",
       "      <th>age</th>\n",
       "      <th>ip_address</th>\n",
       "      <th>class</th>\n",
       "      <th>time_to_first_purchase</th>\n",
       "      <th>country</th>\n",
       "    </tr>\n",
       "  </thead>\n",
       "  <tbody>\n",
       "    <tr>\n",
       "      <th>112394</th>\n",
       "      <td>221950</td>\n",
       "      <td>2015-01-07 20:53:51</td>\n",
       "      <td>2015-01-07 20:53:52</td>\n",
       "      <td>26</td>\n",
       "      <td>FBHIRVGVKKWAI</td>\n",
       "      <td>Ads</td>\n",
       "      <td>IE</td>\n",
       "      <td>F</td>\n",
       "      <td>36</td>\n",
       "      <td>2.278096e+06</td>\n",
       "      <td>1</td>\n",
       "      <td>0 days 00:00:01</td>\n",
       "      <td>NaN</td>\n",
       "    </tr>\n",
       "    <tr>\n",
       "      <th>29547</th>\n",
       "      <td>141726</td>\n",
       "      <td>2015-01-07 20:53:37</td>\n",
       "      <td>2015-04-20 22:44:10</td>\n",
       "      <td>26</td>\n",
       "      <td>FBHIRVGVKKWAI</td>\n",
       "      <td>Ads</td>\n",
       "      <td>IE</td>\n",
       "      <td>F</td>\n",
       "      <td>36</td>\n",
       "      <td>2.278096e+06</td>\n",
       "      <td>0</td>\n",
       "      <td>103 days 01:50:33</td>\n",
       "      <td>NaN</td>\n",
       "    </tr>\n",
       "    <tr>\n",
       "      <th>80951</th>\n",
       "      <td>300104</td>\n",
       "      <td>2015-01-07 20:53:49</td>\n",
       "      <td>2015-01-07 20:53:50</td>\n",
       "      <td>26</td>\n",
       "      <td>FBHIRVGVKKWAI</td>\n",
       "      <td>Ads</td>\n",
       "      <td>IE</td>\n",
       "      <td>F</td>\n",
       "      <td>36</td>\n",
       "      <td>2.278096e+06</td>\n",
       "      <td>1</td>\n",
       "      <td>0 days 00:00:01</td>\n",
       "      <td>NaN</td>\n",
       "    </tr>\n",
       "    <tr>\n",
       "      <th>84918</th>\n",
       "      <td>379555</td>\n",
       "      <td>2015-01-07 20:53:43</td>\n",
       "      <td>2015-01-07 20:53:44</td>\n",
       "      <td>26</td>\n",
       "      <td>FBHIRVGVKKWAI</td>\n",
       "      <td>Ads</td>\n",
       "      <td>IE</td>\n",
       "      <td>F</td>\n",
       "      <td>36</td>\n",
       "      <td>2.278096e+06</td>\n",
       "      <td>1</td>\n",
       "      <td>0 days 00:00:01</td>\n",
       "      <td>NaN</td>\n",
       "    </tr>\n",
       "    <tr>\n",
       "      <th>67756</th>\n",
       "      <td>119377</td>\n",
       "      <td>2015-01-07 20:53:38</td>\n",
       "      <td>2015-01-07 20:53:39</td>\n",
       "      <td>26</td>\n",
       "      <td>FBHIRVGVKKWAI</td>\n",
       "      <td>Ads</td>\n",
       "      <td>IE</td>\n",
       "      <td>F</td>\n",
       "      <td>36</td>\n",
       "      <td>2.278096e+06</td>\n",
       "      <td>1</td>\n",
       "      <td>0 days 00:00:01</td>\n",
       "      <td>NaN</td>\n",
       "    </tr>\n",
       "    <tr>\n",
       "      <th>...</th>\n",
       "      <td>...</td>\n",
       "      <td>...</td>\n",
       "      <td>...</td>\n",
       "      <td>...</td>\n",
       "      <td>...</td>\n",
       "      <td>...</td>\n",
       "      <td>...</td>\n",
       "      <td>...</td>\n",
       "      <td>...</td>\n",
       "      <td>...</td>\n",
       "      <td>...</td>\n",
       "      <td>...</td>\n",
       "      <td>...</td>\n",
       "    </tr>\n",
       "    <tr>\n",
       "      <th>98082</th>\n",
       "      <td>170271</td>\n",
       "      <td>2015-01-07 08:25:05</td>\n",
       "      <td>2015-01-07 08:25:06</td>\n",
       "      <td>37</td>\n",
       "      <td>JJICEXSYQHRHZ</td>\n",
       "      <td>Ads</td>\n",
       "      <td>Opera</td>\n",
       "      <td>M</td>\n",
       "      <td>22</td>\n",
       "      <td>4.292714e+09</td>\n",
       "      <td>1</td>\n",
       "      <td>0 days 00:00:01</td>\n",
       "      <td>NaN</td>\n",
       "    </tr>\n",
       "    <tr>\n",
       "      <th>71055</th>\n",
       "      <td>372133</td>\n",
       "      <td>2015-01-07 08:25:06</td>\n",
       "      <td>2015-01-07 08:25:07</td>\n",
       "      <td>37</td>\n",
       "      <td>JJICEXSYQHRHZ</td>\n",
       "      <td>Ads</td>\n",
       "      <td>Opera</td>\n",
       "      <td>M</td>\n",
       "      <td>22</td>\n",
       "      <td>4.292714e+09</td>\n",
       "      <td>1</td>\n",
       "      <td>0 days 00:00:01</td>\n",
       "      <td>NaN</td>\n",
       "    </tr>\n",
       "    <tr>\n",
       "      <th>43576</th>\n",
       "      <td>288460</td>\n",
       "      <td>2015-01-07 08:25:08</td>\n",
       "      <td>2015-01-07 08:25:09</td>\n",
       "      <td>37</td>\n",
       "      <td>JJICEXSYQHRHZ</td>\n",
       "      <td>Ads</td>\n",
       "      <td>Opera</td>\n",
       "      <td>M</td>\n",
       "      <td>22</td>\n",
       "      <td>4.292714e+09</td>\n",
       "      <td>1</td>\n",
       "      <td>0 days 00:00:01</td>\n",
       "      <td>NaN</td>\n",
       "    </tr>\n",
       "    <tr>\n",
       "      <th>144662</th>\n",
       "      <td>115055</td>\n",
       "      <td>2015-01-07 08:25:07</td>\n",
       "      <td>2015-01-07 08:25:08</td>\n",
       "      <td>37</td>\n",
       "      <td>JJICEXSYQHRHZ</td>\n",
       "      <td>Ads</td>\n",
       "      <td>Opera</td>\n",
       "      <td>M</td>\n",
       "      <td>22</td>\n",
       "      <td>4.292714e+09</td>\n",
       "      <td>1</td>\n",
       "      <td>0 days 00:00:01</td>\n",
       "      <td>NaN</td>\n",
       "    </tr>\n",
       "    <tr>\n",
       "      <th>92907</th>\n",
       "      <td>43129</td>\n",
       "      <td>2015-01-07 08:25:03</td>\n",
       "      <td>2015-04-08 23:40:33</td>\n",
       "      <td>37</td>\n",
       "      <td>JJICEXSYQHRHZ</td>\n",
       "      <td>Ads</td>\n",
       "      <td>Opera</td>\n",
       "      <td>M</td>\n",
       "      <td>22</td>\n",
       "      <td>4.292714e+09</td>\n",
       "      <td>0</td>\n",
       "      <td>91 days 15:15:30</td>\n",
       "      <td>NaN</td>\n",
       "    </tr>\n",
       "  </tbody>\n",
       "</table>\n",
       "<p>8360 rows × 13 columns</p>\n",
       "</div>"
      ],
      "text/plain": [
       "        user_id          signup_time        purchase_time  purchase_value  \\\n",
       "112394   221950  2015-01-07 20:53:51  2015-01-07 20:53:52              26   \n",
       "29547    141726  2015-01-07 20:53:37  2015-04-20 22:44:10              26   \n",
       "80951    300104  2015-01-07 20:53:49  2015-01-07 20:53:50              26   \n",
       "84918    379555  2015-01-07 20:53:43  2015-01-07 20:53:44              26   \n",
       "67756    119377  2015-01-07 20:53:38  2015-01-07 20:53:39              26   \n",
       "...         ...                  ...                  ...             ...   \n",
       "98082    170271  2015-01-07 08:25:05  2015-01-07 08:25:06              37   \n",
       "71055    372133  2015-01-07 08:25:06  2015-01-07 08:25:07              37   \n",
       "43576    288460  2015-01-07 08:25:08  2015-01-07 08:25:09              37   \n",
       "144662   115055  2015-01-07 08:25:07  2015-01-07 08:25:08              37   \n",
       "92907     43129  2015-01-07 08:25:03  2015-04-08 23:40:33              37   \n",
       "\n",
       "            device_id source browser sex  age    ip_address  class  \\\n",
       "112394  FBHIRVGVKKWAI    Ads      IE   F   36  2.278096e+06      1   \n",
       "29547   FBHIRVGVKKWAI    Ads      IE   F   36  2.278096e+06      0   \n",
       "80951   FBHIRVGVKKWAI    Ads      IE   F   36  2.278096e+06      1   \n",
       "84918   FBHIRVGVKKWAI    Ads      IE   F   36  2.278096e+06      1   \n",
       "67756   FBHIRVGVKKWAI    Ads      IE   F   36  2.278096e+06      1   \n",
       "...               ...    ...     ...  ..  ...           ...    ...   \n",
       "98082   JJICEXSYQHRHZ    Ads   Opera   M   22  4.292714e+09      1   \n",
       "71055   JJICEXSYQHRHZ    Ads   Opera   M   22  4.292714e+09      1   \n",
       "43576   JJICEXSYQHRHZ    Ads   Opera   M   22  4.292714e+09      1   \n",
       "144662  JJICEXSYQHRHZ    Ads   Opera   M   22  4.292714e+09      1   \n",
       "92907   JJICEXSYQHRHZ    Ads   Opera   M   22  4.292714e+09      0   \n",
       "\n",
       "       time_to_first_purchase country  \n",
       "112394        0 days 00:00:01     NaN  \n",
       "29547       103 days 01:50:33     NaN  \n",
       "80951         0 days 00:00:01     NaN  \n",
       "84918         0 days 00:00:01     NaN  \n",
       "67756         0 days 00:00:01     NaN  \n",
       "...                       ...     ...  \n",
       "98082         0 days 00:00:01     NaN  \n",
       "71055         0 days 00:00:01     NaN  \n",
       "43576         0 days 00:00:01     NaN  \n",
       "144662        0 days 00:00:01     NaN  \n",
       "92907        91 days 15:15:30     NaN  \n",
       "\n",
       "[8360 rows x 13 columns]"
      ]
     },
     "execution_count": 134,
     "metadata": {},
     "output_type": "execute_result"
    }
   ],
   "source": [
    "repeated_ip_addrs = purchase_data['ip_address'].value_counts() > 1\n",
    "repeated_ip_addrs = repeated_ip_addrs[repeated_ip_addrs].index.tolist()\n",
    "\n",
    "purchase_data.loc[purchase_data[\"ip_address\"].isin(repeated_ip_addrs) ].sort_values(by=['ip_address'])\n",
    "\n",
    "# purchase_data.loc[purchase_data[\"ip_address\"].isin(repeated_ip_addrs) ].sort_values(by=['ip_address'])[\"country\"].isna().sum()"
   ]
  },
  {
   "cell_type": "code",
   "execution_count": null,
   "id": "150cbbd9",
   "metadata": {},
   "outputs": [
    {
     "data": {
      "text/html": [
       "<div>\n",
       "<style scoped>\n",
       "    .dataframe tbody tr th:only-of-type {\n",
       "        vertical-align: middle;\n",
       "    }\n",
       "\n",
       "    .dataframe tbody tr th {\n",
       "        vertical-align: top;\n",
       "    }\n",
       "\n",
       "    .dataframe thead th {\n",
       "        text-align: right;\n",
       "    }\n",
       "</style>\n",
       "<table border=\"1\" class=\"dataframe\">\n",
       "  <thead>\n",
       "    <tr style=\"text-align: right;\">\n",
       "      <th></th>\n",
       "      <th>user_id</th>\n",
       "      <th>signup_time</th>\n",
       "      <th>purchase_time</th>\n",
       "      <th>purchase_value</th>\n",
       "      <th>device_id</th>\n",
       "      <th>source</th>\n",
       "      <th>browser</th>\n",
       "      <th>sex</th>\n",
       "      <th>age</th>\n",
       "      <th>ip_address</th>\n",
       "      <th>class</th>\n",
       "      <th>time_to_first_purchase</th>\n",
       "      <th>country</th>\n",
       "      <th>seconds_to_first_purchase</th>\n",
       "    </tr>\n",
       "  </thead>\n",
       "  <tbody>\n",
       "    <tr>\n",
       "      <th>56306</th>\n",
       "      <td>358871</td>\n",
       "      <td>2015-01-07 08:25:04</td>\n",
       "      <td>2015-01-07 08:25:05</td>\n",
       "      <td>37</td>\n",
       "      <td>JJICEXSYQHRHZ</td>\n",
       "      <td>Ads</td>\n",
       "      <td>Opera</td>\n",
       "      <td>M</td>\n",
       "      <td>22</td>\n",
       "      <td>4.292714e+09</td>\n",
       "      <td>1</td>\n",
       "      <td>0 days 00:00:01</td>\n",
       "      <td>NaN</td>\n",
       "      <td>1.0</td>\n",
       "    </tr>\n",
       "    <tr>\n",
       "      <th>98082</th>\n",
       "      <td>170271</td>\n",
       "      <td>2015-01-07 08:25:05</td>\n",
       "      <td>2015-01-07 08:25:06</td>\n",
       "      <td>37</td>\n",
       "      <td>JJICEXSYQHRHZ</td>\n",
       "      <td>Ads</td>\n",
       "      <td>Opera</td>\n",
       "      <td>M</td>\n",
       "      <td>22</td>\n",
       "      <td>4.292714e+09</td>\n",
       "      <td>1</td>\n",
       "      <td>0 days 00:00:01</td>\n",
       "      <td>NaN</td>\n",
       "      <td>1.0</td>\n",
       "    </tr>\n",
       "    <tr>\n",
       "      <th>71055</th>\n",
       "      <td>372133</td>\n",
       "      <td>2015-01-07 08:25:06</td>\n",
       "      <td>2015-01-07 08:25:07</td>\n",
       "      <td>37</td>\n",
       "      <td>JJICEXSYQHRHZ</td>\n",
       "      <td>Ads</td>\n",
       "      <td>Opera</td>\n",
       "      <td>M</td>\n",
       "      <td>22</td>\n",
       "      <td>4.292714e+09</td>\n",
       "      <td>1</td>\n",
       "      <td>0 days 00:00:01</td>\n",
       "      <td>NaN</td>\n",
       "      <td>1.0</td>\n",
       "    </tr>\n",
       "    <tr>\n",
       "      <th>144662</th>\n",
       "      <td>115055</td>\n",
       "      <td>2015-01-07 08:25:07</td>\n",
       "      <td>2015-01-07 08:25:08</td>\n",
       "      <td>37</td>\n",
       "      <td>JJICEXSYQHRHZ</td>\n",
       "      <td>Ads</td>\n",
       "      <td>Opera</td>\n",
       "      <td>M</td>\n",
       "      <td>22</td>\n",
       "      <td>4.292714e+09</td>\n",
       "      <td>1</td>\n",
       "      <td>0 days 00:00:01</td>\n",
       "      <td>NaN</td>\n",
       "      <td>1.0</td>\n",
       "    </tr>\n",
       "    <tr>\n",
       "      <th>43576</th>\n",
       "      <td>288460</td>\n",
       "      <td>2015-01-07 08:25:08</td>\n",
       "      <td>2015-01-07 08:25:09</td>\n",
       "      <td>37</td>\n",
       "      <td>JJICEXSYQHRHZ</td>\n",
       "      <td>Ads</td>\n",
       "      <td>Opera</td>\n",
       "      <td>M</td>\n",
       "      <td>22</td>\n",
       "      <td>4.292714e+09</td>\n",
       "      <td>1</td>\n",
       "      <td>0 days 00:00:01</td>\n",
       "      <td>NaN</td>\n",
       "      <td>1.0</td>\n",
       "    </tr>\n",
       "    <tr>\n",
       "      <th>92907</th>\n",
       "      <td>43129</td>\n",
       "      <td>2015-01-07 08:25:03</td>\n",
       "      <td>2015-04-08 23:40:33</td>\n",
       "      <td>37</td>\n",
       "      <td>JJICEXSYQHRHZ</td>\n",
       "      <td>Ads</td>\n",
       "      <td>Opera</td>\n",
       "      <td>M</td>\n",
       "      <td>22</td>\n",
       "      <td>4.292714e+09</td>\n",
       "      <td>0</td>\n",
       "      <td>91 days 15:15:30</td>\n",
       "      <td>NaN</td>\n",
       "      <td>7917330.0</td>\n",
       "    </tr>\n",
       "  </tbody>\n",
       "</table>\n",
       "</div>"
      ],
      "text/plain": [
       "        user_id          signup_time        purchase_time  purchase_value  \\\n",
       "56306    358871  2015-01-07 08:25:04  2015-01-07 08:25:05              37   \n",
       "98082    170271  2015-01-07 08:25:05  2015-01-07 08:25:06              37   \n",
       "71055    372133  2015-01-07 08:25:06  2015-01-07 08:25:07              37   \n",
       "144662   115055  2015-01-07 08:25:07  2015-01-07 08:25:08              37   \n",
       "43576    288460  2015-01-07 08:25:08  2015-01-07 08:25:09              37   \n",
       "92907     43129  2015-01-07 08:25:03  2015-04-08 23:40:33              37   \n",
       "\n",
       "            device_id source browser sex  age    ip_address  class  \\\n",
       "56306   JJICEXSYQHRHZ    Ads   Opera   M   22  4.292714e+09      1   \n",
       "98082   JJICEXSYQHRHZ    Ads   Opera   M   22  4.292714e+09      1   \n",
       "71055   JJICEXSYQHRHZ    Ads   Opera   M   22  4.292714e+09      1   \n",
       "144662  JJICEXSYQHRHZ    Ads   Opera   M   22  4.292714e+09      1   \n",
       "43576   JJICEXSYQHRHZ    Ads   Opera   M   22  4.292714e+09      1   \n",
       "92907   JJICEXSYQHRHZ    Ads   Opera   M   22  4.292714e+09      0   \n",
       "\n",
       "       time_to_first_purchase country  seconds_to_first_purchase  \n",
       "56306         0 days 00:00:01     NaN                        1.0  \n",
       "98082         0 days 00:00:01     NaN                        1.0  \n",
       "71055         0 days 00:00:01     NaN                        1.0  \n",
       "144662        0 days 00:00:01     NaN                        1.0  \n",
       "43576         0 days 00:00:01     NaN                        1.0  \n",
       "92907        91 days 15:15:30     NaN                  7917330.0  "
      ]
     },
     "execution_count": 180,
     "metadata": {},
     "output_type": "execute_result"
    }
   ],
   "source": [
    "purchase_data.loc[purchase_data[\"device_id\"].isin(['JJICEXSYQHRHZ']) ].sort_values(by=['purchase_time'])"
   ]
  },
  {
   "cell_type": "markdown",
   "id": "66d121d2",
   "metadata": {},
   "source": [
    "Fraudulent purchases from the same device ID have a 1 second interval, this data is likely synthetic "
   ]
  },
  {
   "cell_type": "code",
   "execution_count": 171,
   "id": "728c7890",
   "metadata": {},
   "outputs": [
    {
     "data": {
      "text/plain": [
       "760"
      ]
     },
     "execution_count": 171,
     "metadata": {},
     "output_type": "execute_result"
    }
   ],
   "source": [
    "len(repeated_ip_addrs)"
   ]
  },
  {
   "cell_type": "code",
   "execution_count": 170,
   "id": "bc3ee07d",
   "metadata": {},
   "outputs": [
    {
     "data": {
      "text/plain": [
       "7634"
      ]
     },
     "execution_count": 170,
     "metadata": {},
     "output_type": "execute_result"
    }
   ],
   "source": [
    "purchase_data.loc[purchase_data[\"ip_address\"].isin(repeated_ip_addrs),'class' ].sum()"
   ]
  },
  {
   "cell_type": "code",
   "execution_count": 176,
   "id": "b068cef9",
   "metadata": {},
   "outputs": [
    {
     "data": {
      "text/plain": [
       "6517"
      ]
     },
     "execution_count": 176,
     "metadata": {},
     "output_type": "execute_result"
    }
   ],
   "source": [
    "purchase_data.loc[~purchase_data[\"ip_address\"].isin(repeated_ip_addrs),'class' ].sum()"
   ]
  },
  {
   "cell_type": "markdown",
   "id": "50215240",
   "metadata": {},
   "source": [
    "8360 entries originate from nonunique ip address.of these, 7634 are fraudulent, we observed  760 non unique ip addresses, "
   ]
  },
  {
   "cell_type": "code",
   "execution_count": null,
   "id": "50177477",
   "metadata": {},
   "outputs": [
    {
     "data": {
      "text/html": [
       "<div>\n",
       "<style scoped>\n",
       "    .dataframe tbody tr th:only-of-type {\n",
       "        vertical-align: middle;\n",
       "    }\n",
       "\n",
       "    .dataframe tbody tr th {\n",
       "        vertical-align: top;\n",
       "    }\n",
       "\n",
       "    .dataframe thead th {\n",
       "        text-align: right;\n",
       "    }\n",
       "</style>\n",
       "<table border=\"1\" class=\"dataframe\">\n",
       "  <thead>\n",
       "    <tr style=\"text-align: right;\">\n",
       "      <th></th>\n",
       "      <th>user_id</th>\n",
       "      <th>signup_time</th>\n",
       "      <th>purchase_time</th>\n",
       "      <th>purchase_value</th>\n",
       "      <th>device_id</th>\n",
       "      <th>source</th>\n",
       "      <th>browser</th>\n",
       "      <th>sex</th>\n",
       "      <th>age</th>\n",
       "      <th>ip_address</th>\n",
       "      <th>class</th>\n",
       "      <th>time_to_first_purchase</th>\n",
       "      <th>country</th>\n",
       "      <th>seconds_to_first_purchase</th>\n",
       "    </tr>\n",
       "  </thead>\n",
       "  <tbody>\n",
       "    <tr>\n",
       "      <th>112394</th>\n",
       "      <td>221950</td>\n",
       "      <td>2015-01-07 20:53:51</td>\n",
       "      <td>2015-01-07 20:53:52</td>\n",
       "      <td>26</td>\n",
       "      <td>FBHIRVGVKKWAI</td>\n",
       "      <td>Ads</td>\n",
       "      <td>IE</td>\n",
       "      <td>F</td>\n",
       "      <td>36</td>\n",
       "      <td>2.278096e+06</td>\n",
       "      <td>1</td>\n",
       "      <td>0 days 00:00:01</td>\n",
       "      <td>NaN</td>\n",
       "      <td>1.0</td>\n",
       "    </tr>\n",
       "    <tr>\n",
       "      <th>29547</th>\n",
       "      <td>141726</td>\n",
       "      <td>2015-01-07 20:53:37</td>\n",
       "      <td>2015-04-20 22:44:10</td>\n",
       "      <td>26</td>\n",
       "      <td>FBHIRVGVKKWAI</td>\n",
       "      <td>Ads</td>\n",
       "      <td>IE</td>\n",
       "      <td>F</td>\n",
       "      <td>36</td>\n",
       "      <td>2.278096e+06</td>\n",
       "      <td>0</td>\n",
       "      <td>103 days 01:50:33</td>\n",
       "      <td>NaN</td>\n",
       "      <td>8905833.0</td>\n",
       "    </tr>\n",
       "    <tr>\n",
       "      <th>80951</th>\n",
       "      <td>300104</td>\n",
       "      <td>2015-01-07 20:53:49</td>\n",
       "      <td>2015-01-07 20:53:50</td>\n",
       "      <td>26</td>\n",
       "      <td>FBHIRVGVKKWAI</td>\n",
       "      <td>Ads</td>\n",
       "      <td>IE</td>\n",
       "      <td>F</td>\n",
       "      <td>36</td>\n",
       "      <td>2.278096e+06</td>\n",
       "      <td>1</td>\n",
       "      <td>0 days 00:00:01</td>\n",
       "      <td>NaN</td>\n",
       "      <td>1.0</td>\n",
       "    </tr>\n",
       "    <tr>\n",
       "      <th>84918</th>\n",
       "      <td>379555</td>\n",
       "      <td>2015-01-07 20:53:43</td>\n",
       "      <td>2015-01-07 20:53:44</td>\n",
       "      <td>26</td>\n",
       "      <td>FBHIRVGVKKWAI</td>\n",
       "      <td>Ads</td>\n",
       "      <td>IE</td>\n",
       "      <td>F</td>\n",
       "      <td>36</td>\n",
       "      <td>2.278096e+06</td>\n",
       "      <td>1</td>\n",
       "      <td>0 days 00:00:01</td>\n",
       "      <td>NaN</td>\n",
       "      <td>1.0</td>\n",
       "    </tr>\n",
       "    <tr>\n",
       "      <th>67756</th>\n",
       "      <td>119377</td>\n",
       "      <td>2015-01-07 20:53:38</td>\n",
       "      <td>2015-01-07 20:53:39</td>\n",
       "      <td>26</td>\n",
       "      <td>FBHIRVGVKKWAI</td>\n",
       "      <td>Ads</td>\n",
       "      <td>IE</td>\n",
       "      <td>F</td>\n",
       "      <td>36</td>\n",
       "      <td>2.278096e+06</td>\n",
       "      <td>1</td>\n",
       "      <td>0 days 00:00:01</td>\n",
       "      <td>NaN</td>\n",
       "      <td>1.0</td>\n",
       "    </tr>\n",
       "    <tr>\n",
       "      <th>...</th>\n",
       "      <td>...</td>\n",
       "      <td>...</td>\n",
       "      <td>...</td>\n",
       "      <td>...</td>\n",
       "      <td>...</td>\n",
       "      <td>...</td>\n",
       "      <td>...</td>\n",
       "      <td>...</td>\n",
       "      <td>...</td>\n",
       "      <td>...</td>\n",
       "      <td>...</td>\n",
       "      <td>...</td>\n",
       "      <td>...</td>\n",
       "      <td>...</td>\n",
       "    </tr>\n",
       "    <tr>\n",
       "      <th>98082</th>\n",
       "      <td>170271</td>\n",
       "      <td>2015-01-07 08:25:05</td>\n",
       "      <td>2015-01-07 08:25:06</td>\n",
       "      <td>37</td>\n",
       "      <td>JJICEXSYQHRHZ</td>\n",
       "      <td>Ads</td>\n",
       "      <td>Opera</td>\n",
       "      <td>M</td>\n",
       "      <td>22</td>\n",
       "      <td>4.292714e+09</td>\n",
       "      <td>1</td>\n",
       "      <td>0 days 00:00:01</td>\n",
       "      <td>NaN</td>\n",
       "      <td>1.0</td>\n",
       "    </tr>\n",
       "    <tr>\n",
       "      <th>71055</th>\n",
       "      <td>372133</td>\n",
       "      <td>2015-01-07 08:25:06</td>\n",
       "      <td>2015-01-07 08:25:07</td>\n",
       "      <td>37</td>\n",
       "      <td>JJICEXSYQHRHZ</td>\n",
       "      <td>Ads</td>\n",
       "      <td>Opera</td>\n",
       "      <td>M</td>\n",
       "      <td>22</td>\n",
       "      <td>4.292714e+09</td>\n",
       "      <td>1</td>\n",
       "      <td>0 days 00:00:01</td>\n",
       "      <td>NaN</td>\n",
       "      <td>1.0</td>\n",
       "    </tr>\n",
       "    <tr>\n",
       "      <th>43576</th>\n",
       "      <td>288460</td>\n",
       "      <td>2015-01-07 08:25:08</td>\n",
       "      <td>2015-01-07 08:25:09</td>\n",
       "      <td>37</td>\n",
       "      <td>JJICEXSYQHRHZ</td>\n",
       "      <td>Ads</td>\n",
       "      <td>Opera</td>\n",
       "      <td>M</td>\n",
       "      <td>22</td>\n",
       "      <td>4.292714e+09</td>\n",
       "      <td>1</td>\n",
       "      <td>0 days 00:00:01</td>\n",
       "      <td>NaN</td>\n",
       "      <td>1.0</td>\n",
       "    </tr>\n",
       "    <tr>\n",
       "      <th>144662</th>\n",
       "      <td>115055</td>\n",
       "      <td>2015-01-07 08:25:07</td>\n",
       "      <td>2015-01-07 08:25:08</td>\n",
       "      <td>37</td>\n",
       "      <td>JJICEXSYQHRHZ</td>\n",
       "      <td>Ads</td>\n",
       "      <td>Opera</td>\n",
       "      <td>M</td>\n",
       "      <td>22</td>\n",
       "      <td>4.292714e+09</td>\n",
       "      <td>1</td>\n",
       "      <td>0 days 00:00:01</td>\n",
       "      <td>NaN</td>\n",
       "      <td>1.0</td>\n",
       "    </tr>\n",
       "    <tr>\n",
       "      <th>92907</th>\n",
       "      <td>43129</td>\n",
       "      <td>2015-01-07 08:25:03</td>\n",
       "      <td>2015-04-08 23:40:33</td>\n",
       "      <td>37</td>\n",
       "      <td>JJICEXSYQHRHZ</td>\n",
       "      <td>Ads</td>\n",
       "      <td>Opera</td>\n",
       "      <td>M</td>\n",
       "      <td>22</td>\n",
       "      <td>4.292714e+09</td>\n",
       "      <td>0</td>\n",
       "      <td>91 days 15:15:30</td>\n",
       "      <td>NaN</td>\n",
       "      <td>7917330.0</td>\n",
       "    </tr>\n",
       "  </tbody>\n",
       "</table>\n",
       "<p>8360 rows × 14 columns</p>\n",
       "</div>"
      ],
      "text/plain": [
       "        user_id          signup_time        purchase_time  purchase_value  \\\n",
       "112394   221950  2015-01-07 20:53:51  2015-01-07 20:53:52              26   \n",
       "29547    141726  2015-01-07 20:53:37  2015-04-20 22:44:10              26   \n",
       "80951    300104  2015-01-07 20:53:49  2015-01-07 20:53:50              26   \n",
       "84918    379555  2015-01-07 20:53:43  2015-01-07 20:53:44              26   \n",
       "67756    119377  2015-01-07 20:53:38  2015-01-07 20:53:39              26   \n",
       "...         ...                  ...                  ...             ...   \n",
       "98082    170271  2015-01-07 08:25:05  2015-01-07 08:25:06              37   \n",
       "71055    372133  2015-01-07 08:25:06  2015-01-07 08:25:07              37   \n",
       "43576    288460  2015-01-07 08:25:08  2015-01-07 08:25:09              37   \n",
       "144662   115055  2015-01-07 08:25:07  2015-01-07 08:25:08              37   \n",
       "92907     43129  2015-01-07 08:25:03  2015-04-08 23:40:33              37   \n",
       "\n",
       "            device_id source browser sex  age    ip_address  class  \\\n",
       "112394  FBHIRVGVKKWAI    Ads      IE   F   36  2.278096e+06      1   \n",
       "29547   FBHIRVGVKKWAI    Ads      IE   F   36  2.278096e+06      0   \n",
       "80951   FBHIRVGVKKWAI    Ads      IE   F   36  2.278096e+06      1   \n",
       "84918   FBHIRVGVKKWAI    Ads      IE   F   36  2.278096e+06      1   \n",
       "67756   FBHIRVGVKKWAI    Ads      IE   F   36  2.278096e+06      1   \n",
       "...               ...    ...     ...  ..  ...           ...    ...   \n",
       "98082   JJICEXSYQHRHZ    Ads   Opera   M   22  4.292714e+09      1   \n",
       "71055   JJICEXSYQHRHZ    Ads   Opera   M   22  4.292714e+09      1   \n",
       "43576   JJICEXSYQHRHZ    Ads   Opera   M   22  4.292714e+09      1   \n",
       "144662  JJICEXSYQHRHZ    Ads   Opera   M   22  4.292714e+09      1   \n",
       "92907   JJICEXSYQHRHZ    Ads   Opera   M   22  4.292714e+09      0   \n",
       "\n",
       "       time_to_first_purchase country  seconds_to_first_purchase  \n",
       "112394        0 days 00:00:01     NaN                        1.0  \n",
       "29547       103 days 01:50:33     NaN                  8905833.0  \n",
       "80951         0 days 00:00:01     NaN                        1.0  \n",
       "84918         0 days 00:00:01     NaN                        1.0  \n",
       "67756         0 days 00:00:01     NaN                        1.0  \n",
       "...                       ...     ...                        ...  \n",
       "98082         0 days 00:00:01     NaN                        1.0  \n",
       "71055         0 days 00:00:01     NaN                        1.0  \n",
       "43576         0 days 00:00:01     NaN                        1.0  \n",
       "144662        0 days 00:00:01     NaN                        1.0  \n",
       "92907        91 days 15:15:30     NaN                  7917330.0  \n",
       "\n",
       "[8360 rows x 14 columns]"
      ]
     },
     "execution_count": 242,
     "metadata": {},
     "output_type": "execute_result"
    }
   ],
   "source": [
    "purchase_data.loc[(purchase_data[\"ip_address\"].isin(repeated_ip_addrs)) & (purchase_data[\"device_id\"].isin(repeated_device_ids)) ].sort_values(by=['ip_address'])['class'].sum()"
   ]
  },
  {
   "cell_type": "code",
   "execution_count": 249,
   "id": "9fc270fc",
   "metadata": {},
   "outputs": [
    {
     "data": {
      "text/plain": [
       "10141"
      ]
     },
     "execution_count": 249,
     "metadata": {},
     "output_type": "execute_result"
    }
   ],
   "source": [
    "purchase_data.loc[(purchase_data[\"ip_address\"].isin(repeated_ip_addrs)) | (purchase_data[\"device_id\"].isin(repeated_device_ids)) ].sort_values(by=['ip_address'])['class'].sum()"
   ]
  },
  {
   "cell_type": "markdown",
   "id": "faebbd0f",
   "metadata": {},
   "source": [
    "transactions with either repeated ip addresses and repeated device id are very likely to be fraudulent\n",
    "\n",
    "We define the binary features 'repeated_ip_addr' and 'repeated_device_id' which has the value 1 if the ip_address and device_id respectively are in either the training or testing set and the value of 0 otherwise. \n",
    "\n",
    "because we are considering whether the repeated values are in either the training or testing set, it is equivalent to assigning the values at global level."
   ]
  },
  {
   "cell_type": "code",
   "execution_count": 251,
   "id": "e6676c15",
   "metadata": {},
   "outputs": [],
   "source": [
    "purchase_data['repeated_ip_addr'] = purchase_data['ip_address'].isin(repeated_ip_addrs).astype(int)\n",
    "purchase_data['repeated_device_id'] = purchase_data['device_id'].isin(repeated_device_ids).astype(int)"
   ]
  },
  {
   "cell_type": "markdown",
   "id": "7d29f4ef",
   "metadata": {},
   "source": [
    "We now explore time to first purchase in greater depth "
   ]
  },
  {
   "cell_type": "code",
   "execution_count": 257,
   "id": "6c3cd30b",
   "metadata": {},
   "outputs": [
    {
     "name": "stdout",
     "output_type": "stream",
     "text": [
      "(7600,)\n"
     ]
    },
    {
     "data": {
      "text/plain": [
       "7600"
      ]
     },
     "execution_count": 257,
     "metadata": {},
     "output_type": "execute_result"
    }
   ],
   "source": [
    "print(purchase_data.loc[(purchase_data[\"seconds_to_first_purchase\"] <= 1 )]['class'].shape)\n",
    "purchase_data.loc[(purchase_data[\"seconds_to_first_purchase\"] <= 1 )]['class'].sum()"
   ]
  },
  {
   "cell_type": "code",
   "execution_count": 328,
   "id": "16975a48",
   "metadata": {},
   "outputs": [
    {
     "data": {
      "text/plain": [
       "137.0"
      ]
     },
     "execution_count": 328,
     "metadata": {},
     "output_type": "execute_result"
    }
   ],
   "source": [
    "purchase_data.loc[(purchase_data[\"class\"] == 0) , 'seconds_to_first_purchase'].min()"
   ]
  },
  {
   "cell_type": "code",
   "execution_count": 327,
   "id": "fc67a600",
   "metadata": {},
   "outputs": [
    {
     "data": {
      "text/plain": [
       "769.0"
      ]
     },
     "execution_count": 327,
     "metadata": {},
     "output_type": "execute_result"
    }
   ],
   "source": [
    "purchase_data.loc[(purchase_data[\"class\"] == 1) & (purchase_data[\"seconds_to_first_purchase\"] > 1 ), 'seconds_to_first_purchase'].min()"
   ]
  },
  {
   "cell_type": "markdown",
   "id": "f6bad4f7",
   "metadata": {},
   "source": [
    "All transactions with seconds_to_first_purchase <= 1 are fraudulent, with the fastest legitimate transaction taking 137 seconds, \n",
    "\n",
    "now lets look at fraudulent transactions with seconds_to_first_purchase > 1 seconds"
   ]
  },
  {
   "cell_type": "code",
   "execution_count": 259,
   "id": "8b75e661",
   "metadata": {},
   "outputs": [
    {
     "data": {
      "text/plain": [
       "25         960070.0\n",
       "59        1649387.0\n",
       "60        7932754.0\n",
       "63        5888154.0\n",
       "93        1433862.0\n",
       "            ...    \n",
       "151040    5531237.0\n",
       "151060    3186067.0\n",
       "151065    9870794.0\n",
       "151071    8651241.0\n",
       "151107    5261233.0\n",
       "Name: seconds_to_first_purchase, Length: 6551, dtype: float64"
      ]
     },
     "execution_count": 259,
     "metadata": {},
     "output_type": "execute_result"
    }
   ],
   "source": [
    "purchase_data.loc[(purchase_data[\"class\"] ==1) & (purchase_data[\"seconds_to_first_purchase\"] > 1 ), 'seconds_to_first_purchase']"
   ]
  },
  {
   "cell_type": "code",
   "execution_count": 263,
   "id": "0a83eeb2",
   "metadata": {},
   "outputs": [
    {
     "data": {
      "text/plain": [
       "<Axes: xlabel='seconds_to_first_purchase', ylabel='Count'>"
      ]
     },
     "execution_count": 263,
     "metadata": {},
     "output_type": "execute_result"
    },
    {
     "data": {
      "image/png": "[encoded data removed]",
      "text/plain": [
       "<Figure size 640x480 with 1 Axes>"
      ]
     },
     "metadata": {},
     "output_type": "display_data"
    }
   ],
   "source": [
    "sns.histplot(purchase_data.loc[(purchase_data[\"class\"] ==1) & (purchase_data[\"seconds_to_first_purchase\"] > 1 ), 'seconds_to_first_purchase'], color='red')\n",
    "sns.histplot(purchase_data.loc[(purchase_data[\"class\"] ==0) & (purchase_data[\"seconds_to_first_purchase\"] > 1 ), 'seconds_to_first_purchase'], color='lightblue')"
   ]
  },
  {
   "cell_type": "markdown",
   "id": "86ffbdaf",
   "metadata": {},
   "source": [
    "The histograms of seconds_to_first_purchase looks relatively similar and uniform, suggesting little class separation beyond the 1 second point \n",
    "\n",
    "based on this, a binary variable \"fast_transaction\" in which a value of 1 suggest that the transaction occured too quickly after signup and is likely to be fraudulant. under normal circumstances, we would plot the  KDE of seconds_to_first_purchase for class 1 and class 0 and use the point of intersections, but since the distributions of seconds_to_first_purchase in this data is highly irregular, a large number of 1 second fraudulent transactions combined with a uniform distribution, it will be more efficient to set an informed threshold at 45 seconds which is substantially lower than the the fastest legitimate transaction (137 seconds)"
   ]
  },
  {
   "cell_type": "code",
   "execution_count": 267,
   "id": "658f43f1",
   "metadata": {},
   "outputs": [],
   "source": [
    "purchase_data['fast_transaction'] = (purchase_data['seconds_to_first_purchase'] <= 45).astype(int)"
   ]
  },
  {
   "cell_type": "markdown",
   "id": "90ccea4c",
   "metadata": {},
   "source": [
    "we now examine whether inconsistent sex, sex and ip can be potential feature"
   ]
  },
  {
   "cell_type": "code",
   "execution_count": 268,
   "id": "61e3eba1",
   "metadata": {},
   "outputs": [
    {
     "data": {
      "text/html": [
       "<div>\n",
       "<style scoped>\n",
       "    .dataframe tbody tr th:only-of-type {\n",
       "        vertical-align: middle;\n",
       "    }\n",
       "\n",
       "    .dataframe tbody tr th {\n",
       "        vertical-align: top;\n",
       "    }\n",
       "\n",
       "    .dataframe thead th {\n",
       "        text-align: right;\n",
       "    }\n",
       "</style>\n",
       "<table border=\"1\" class=\"dataframe\">\n",
       "  <thead>\n",
       "    <tr style=\"text-align: right;\">\n",
       "      <th></th>\n",
       "      <th>device_id</th>\n",
       "      <th>sex</th>\n",
       "      <th>age</th>\n",
       "      <th>ip_address</th>\n",
       "    </tr>\n",
       "  </thead>\n",
       "  <tbody>\n",
       "    <tr>\n",
       "      <th>32</th>\n",
       "      <td>ADFZEAZJYIAOI</td>\n",
       "      <td>1</td>\n",
       "      <td>2</td>\n",
       "      <td>2</td>\n",
       "    </tr>\n",
       "    <tr>\n",
       "      <th>52</th>\n",
       "      <td>AFLSPILWBHCWY</td>\n",
       "      <td>2</td>\n",
       "      <td>2</td>\n",
       "      <td>2</td>\n",
       "    </tr>\n",
       "    <tr>\n",
       "      <th>61</th>\n",
       "      <td>AGGNTUXWDWEWM</td>\n",
       "      <td>2</td>\n",
       "      <td>2</td>\n",
       "      <td>2</td>\n",
       "    </tr>\n",
       "    <tr>\n",
       "      <th>76</th>\n",
       "      <td>AHKVPEUBAQBVZ</td>\n",
       "      <td>1</td>\n",
       "      <td>2</td>\n",
       "      <td>2</td>\n",
       "    </tr>\n",
       "    <tr>\n",
       "      <th>89</th>\n",
       "      <td>AIDWUFABGXTCG</td>\n",
       "      <td>2</td>\n",
       "      <td>2</td>\n",
       "      <td>2</td>\n",
       "    </tr>\n",
       "    <tr>\n",
       "      <th>...</th>\n",
       "      <td>...</td>\n",
       "      <td>...</td>\n",
       "      <td>...</td>\n",
       "      <td>...</td>\n",
       "    </tr>\n",
       "    <tr>\n",
       "      <th>6868</th>\n",
       "      <td>ZOZPMMRQPTSCI</td>\n",
       "      <td>2</td>\n",
       "      <td>2</td>\n",
       "      <td>2</td>\n",
       "    </tr>\n",
       "    <tr>\n",
       "      <th>6875</th>\n",
       "      <td>ZPJSJOPYHSZWO</td>\n",
       "      <td>2</td>\n",
       "      <td>2</td>\n",
       "      <td>2</td>\n",
       "    </tr>\n",
       "    <tr>\n",
       "      <th>6947</th>\n",
       "      <td>ZWSJLUONUPBOU</td>\n",
       "      <td>1</td>\n",
       "      <td>2</td>\n",
       "      <td>2</td>\n",
       "    </tr>\n",
       "    <tr>\n",
       "      <th>6965</th>\n",
       "      <td>ZYKQWIDOKNKMW</td>\n",
       "      <td>2</td>\n",
       "      <td>2</td>\n",
       "      <td>2</td>\n",
       "    </tr>\n",
       "    <tr>\n",
       "      <th>6969</th>\n",
       "      <td>ZYPKBBYHNPZDI</td>\n",
       "      <td>1</td>\n",
       "      <td>2</td>\n",
       "      <td>2</td>\n",
       "    </tr>\n",
       "  </tbody>\n",
       "</table>\n",
       "<p>284 rows × 4 columns</p>\n",
       "</div>"
      ],
      "text/plain": [
       "          device_id  sex  age  ip_address\n",
       "32    ADFZEAZJYIAOI    1    2           2\n",
       "52    AFLSPILWBHCWY    2    2           2\n",
       "61    AGGNTUXWDWEWM    2    2           2\n",
       "76    AHKVPEUBAQBVZ    1    2           2\n",
       "89    AIDWUFABGXTCG    2    2           2\n",
       "...             ...  ...  ...         ...\n",
       "6868  ZOZPMMRQPTSCI    2    2           2\n",
       "6875  ZPJSJOPYHSZWO    2    2           2\n",
       "6947  ZWSJLUONUPBOU    1    2           2\n",
       "6965  ZYKQWIDOKNKMW    2    2           2\n",
       "6969  ZYPKBBYHNPZDI    1    2           2\n",
       "\n",
       "[284 rows x 4 columns]"
      ]
     },
     "execution_count": 268,
     "metadata": {},
     "output_type": "execute_result"
    }
   ],
   "source": [
    "device_sex_age_count = purchase_data.loc[(purchase_data[\"class\"] == 1) ].groupby('device_id')[['sex', 'age', 'ip_address' ]].nunique().reset_index()\n",
    "device_sex_age_count.loc[((device_sex_age_count[\"sex\"] > 1) | (device_sex_age_count[\"age\"] > 1))  ]"
   ]
  },
  {
   "cell_type": "code",
   "execution_count": 218,
   "id": "004968d2",
   "metadata": {},
   "outputs": [
    {
     "data": {
      "text/html": [
       "<div>\n",
       "<style scoped>\n",
       "    .dataframe tbody tr th:only-of-type {\n",
       "        vertical-align: middle;\n",
       "    }\n",
       "\n",
       "    .dataframe tbody tr th {\n",
       "        vertical-align: top;\n",
       "    }\n",
       "\n",
       "    .dataframe thead th {\n",
       "        text-align: right;\n",
       "    }\n",
       "</style>\n",
       "<table border=\"1\" class=\"dataframe\">\n",
       "  <thead>\n",
       "    <tr style=\"text-align: right;\">\n",
       "      <th></th>\n",
       "      <th>user_id</th>\n",
       "      <th>signup_time</th>\n",
       "      <th>purchase_time</th>\n",
       "      <th>purchase_value</th>\n",
       "      <th>device_id</th>\n",
       "      <th>source</th>\n",
       "      <th>browser</th>\n",
       "      <th>sex</th>\n",
       "      <th>age</th>\n",
       "      <th>ip_address</th>\n",
       "      <th>class</th>\n",
       "      <th>time_to_first_purchase</th>\n",
       "      <th>country</th>\n",
       "      <th>seconds_to_first_purchase</th>\n",
       "    </tr>\n",
       "  </thead>\n",
       "  <tbody>\n",
       "    <tr>\n",
       "      <th>74703</th>\n",
       "      <td>263235</td>\n",
       "      <td>2015-03-01 19:38:09</td>\n",
       "      <td>2015-05-26 14:10:54</td>\n",
       "      <td>30</td>\n",
       "      <td>ADFZEAZJYIAOI</td>\n",
       "      <td>SEO</td>\n",
       "      <td>Safari</td>\n",
       "      <td>M</td>\n",
       "      <td>27</td>\n",
       "      <td>4.189809e+09</td>\n",
       "      <td>1</td>\n",
       "      <td>85 days 18:32:45</td>\n",
       "      <td>NaN</td>\n",
       "      <td>7410765.0</td>\n",
       "    </tr>\n",
       "    <tr>\n",
       "      <th>140490</th>\n",
       "      <td>287649</td>\n",
       "      <td>2015-05-22 11:24:07</td>\n",
       "      <td>2015-07-30 11:48:47</td>\n",
       "      <td>19</td>\n",
       "      <td>ADFZEAZJYIAOI</td>\n",
       "      <td>Ads</td>\n",
       "      <td>Chrome</td>\n",
       "      <td>M</td>\n",
       "      <td>31</td>\n",
       "      <td>4.052775e+09</td>\n",
       "      <td>1</td>\n",
       "      <td>69 days 00:24:40</td>\n",
       "      <td>NaN</td>\n",
       "      <td>5963080.0</td>\n",
       "    </tr>\n",
       "  </tbody>\n",
       "</table>\n",
       "</div>"
      ],
      "text/plain": [
       "        user_id          signup_time        purchase_time  purchase_value  \\\n",
       "74703    263235  2015-03-01 19:38:09  2015-05-26 14:10:54              30   \n",
       "140490   287649  2015-05-22 11:24:07  2015-07-30 11:48:47              19   \n",
       "\n",
       "            device_id source browser sex  age    ip_address  class  \\\n",
       "74703   ADFZEAZJYIAOI    SEO  Safari   M   27  4.189809e+09      1   \n",
       "140490  ADFZEAZJYIAOI    Ads  Chrome   M   31  4.052775e+09      1   \n",
       "\n",
       "       time_to_first_purchase country  seconds_to_first_purchase  \n",
       "74703        85 days 18:32:45     NaN                  7410765.0  \n",
       "140490       69 days 00:24:40     NaN                  5963080.0  "
      ]
     },
     "execution_count": 218,
     "metadata": {},
     "output_type": "execute_result"
    }
   ],
   "source": [
    "purchase_data.loc[purchase_data[\"device_id\"].isin(['ADFZEAZJYIAOI']) ].sort_values(by=['purchase_time'])"
   ]
  },
  {
   "cell_type": "code",
   "execution_count": 225,
   "id": "d9f54b96",
   "metadata": {},
   "outputs": [
    {
     "data": {
      "text/html": [
       "<div>\n",
       "<style scoped>\n",
       "    .dataframe tbody tr th:only-of-type {\n",
       "        vertical-align: middle;\n",
       "    }\n",
       "\n",
       "    .dataframe tbody tr th {\n",
       "        vertical-align: top;\n",
       "    }\n",
       "\n",
       "    .dataframe thead th {\n",
       "        text-align: right;\n",
       "    }\n",
       "</style>\n",
       "<table border=\"1\" class=\"dataframe\">\n",
       "  <thead>\n",
       "    <tr style=\"text-align: right;\">\n",
       "      <th></th>\n",
       "      <th>device_id</th>\n",
       "      <th>sex</th>\n",
       "      <th>age</th>\n",
       "      <th>ip_address</th>\n",
       "    </tr>\n",
       "  </thead>\n",
       "  <tbody>\n",
       "    <tr>\n",
       "      <th>34</th>\n",
       "      <td>AAFBODGQYEMVK</td>\n",
       "      <td>2</td>\n",
       "      <td>2</td>\n",
       "      <td>2</td>\n",
       "    </tr>\n",
       "    <tr>\n",
       "      <th>61</th>\n",
       "      <td>AAIGAICKBXPSW</td>\n",
       "      <td>2</td>\n",
       "      <td>2</td>\n",
       "      <td>2</td>\n",
       "    </tr>\n",
       "    <tr>\n",
       "      <th>190</th>\n",
       "      <td>AAXWKVBISBGWI</td>\n",
       "      <td>2</td>\n",
       "      <td>2</td>\n",
       "      <td>2</td>\n",
       "    </tr>\n",
       "    <tr>\n",
       "      <th>218</th>\n",
       "      <td>ABAWKCLFOLYDQ</td>\n",
       "      <td>1</td>\n",
       "      <td>2</td>\n",
       "      <td>2</td>\n",
       "    </tr>\n",
       "    <tr>\n",
       "      <th>253</th>\n",
       "      <td>ABGAAIZLGEAPV</td>\n",
       "      <td>2</td>\n",
       "      <td>2</td>\n",
       "      <td>2</td>\n",
       "    </tr>\n",
       "    <tr>\n",
       "      <th>...</th>\n",
       "      <td>...</td>\n",
       "      <td>...</td>\n",
       "      <td>...</td>\n",
       "      <td>...</td>\n",
       "    </tr>\n",
       "    <tr>\n",
       "      <th>133538</th>\n",
       "      <td>ZZIJMPDZHEFPD</td>\n",
       "      <td>2</td>\n",
       "      <td>2</td>\n",
       "      <td>2</td>\n",
       "    </tr>\n",
       "    <tr>\n",
       "      <th>133549</th>\n",
       "      <td>ZZJTXSOBVKLIT</td>\n",
       "      <td>2</td>\n",
       "      <td>2</td>\n",
       "      <td>2</td>\n",
       "    </tr>\n",
       "    <tr>\n",
       "      <th>133557</th>\n",
       "      <td>ZZKXASRAZPHYR</td>\n",
       "      <td>2</td>\n",
       "      <td>2</td>\n",
       "      <td>2</td>\n",
       "    </tr>\n",
       "    <tr>\n",
       "      <th>133582</th>\n",
       "      <td>ZZOTFEMHJONTA</td>\n",
       "      <td>2</td>\n",
       "      <td>2</td>\n",
       "      <td>2</td>\n",
       "    </tr>\n",
       "    <tr>\n",
       "      <th>133642</th>\n",
       "      <td>ZZYPLUFCXTHUS</td>\n",
       "      <td>2</td>\n",
       "      <td>2</td>\n",
       "      <td>2</td>\n",
       "    </tr>\n",
       "  </tbody>\n",
       "</table>\n",
       "<p>3208 rows × 4 columns</p>\n",
       "</div>"
      ],
      "text/plain": [
       "            device_id  sex  age  ip_address\n",
       "34      AAFBODGQYEMVK    2    2           2\n",
       "61      AAIGAICKBXPSW    2    2           2\n",
       "190     AAXWKVBISBGWI    2    2           2\n",
       "218     ABAWKCLFOLYDQ    1    2           2\n",
       "253     ABGAAIZLGEAPV    2    2           2\n",
       "...               ...  ...  ...         ...\n",
       "133538  ZZIJMPDZHEFPD    2    2           2\n",
       "133549  ZZJTXSOBVKLIT    2    2           2\n",
       "133557  ZZKXASRAZPHYR    2    2           2\n",
       "133582  ZZOTFEMHJONTA    2    2           2\n",
       "133642  ZZYPLUFCXTHUS    2    2           2\n",
       "\n",
       "[3208 rows x 4 columns]"
      ]
     },
     "execution_count": 225,
     "metadata": {},
     "output_type": "execute_result"
    }
   ],
   "source": [
    "device_sex_age_count = purchase_data.loc[(purchase_data[\"class\"] == 0) ].groupby('device_id')[['sex', 'age', 'ip_address' ]].nunique().reset_index()\n",
    "device_sex_age_count.loc[((device_sex_age_count[\"sex\"] > 1) | (device_sex_age_count[\"age\"] > 1))  ]"
   ]
  },
  {
   "cell_type": "code",
   "execution_count": 221,
   "id": "cf61b1fa",
   "metadata": {},
   "outputs": [
    {
     "data": {
      "text/html": [
       "<div>\n",
       "<style scoped>\n",
       "    .dataframe tbody tr th:only-of-type {\n",
       "        vertical-align: middle;\n",
       "    }\n",
       "\n",
       "    .dataframe tbody tr th {\n",
       "        vertical-align: top;\n",
       "    }\n",
       "\n",
       "    .dataframe thead th {\n",
       "        text-align: right;\n",
       "    }\n",
       "</style>\n",
       "<table border=\"1\" class=\"dataframe\">\n",
       "  <thead>\n",
       "    <tr style=\"text-align: right;\">\n",
       "      <th></th>\n",
       "      <th>user_id</th>\n",
       "      <th>signup_time</th>\n",
       "      <th>purchase_time</th>\n",
       "      <th>purchase_value</th>\n",
       "      <th>device_id</th>\n",
       "      <th>source</th>\n",
       "      <th>browser</th>\n",
       "      <th>sex</th>\n",
       "      <th>age</th>\n",
       "      <th>ip_address</th>\n",
       "      <th>class</th>\n",
       "      <th>time_to_first_purchase</th>\n",
       "      <th>country</th>\n",
       "      <th>seconds_to_first_purchase</th>\n",
       "    </tr>\n",
       "  </thead>\n",
       "  <tbody>\n",
       "    <tr>\n",
       "      <th>102223</th>\n",
       "      <td>239598</td>\n",
       "      <td>2015-01-18 11:00:53</td>\n",
       "      <td>2015-01-24 11:14:56</td>\n",
       "      <td>41</td>\n",
       "      <td>AAFBODGQYEMVK</td>\n",
       "      <td>Direct</td>\n",
       "      <td>IE</td>\n",
       "      <td>F</td>\n",
       "      <td>30</td>\n",
       "      <td>7.107753e+08</td>\n",
       "      <td>0</td>\n",
       "      <td>6 days 00:14:03</td>\n",
       "      <td>China</td>\n",
       "      <td>519243.0</td>\n",
       "    </tr>\n",
       "    <tr>\n",
       "      <th>90032</th>\n",
       "      <td>339951</td>\n",
       "      <td>2015-06-30 03:06:09</td>\n",
       "      <td>2015-10-21 21:43:50</td>\n",
       "      <td>73</td>\n",
       "      <td>AAFBODGQYEMVK</td>\n",
       "      <td>Direct</td>\n",
       "      <td>FireFox</td>\n",
       "      <td>M</td>\n",
       "      <td>33</td>\n",
       "      <td>4.000912e+09</td>\n",
       "      <td>0</td>\n",
       "      <td>113 days 18:37:41</td>\n",
       "      <td>NaN</td>\n",
       "      <td>9830261.0</td>\n",
       "    </tr>\n",
       "  </tbody>\n",
       "</table>\n",
       "</div>"
      ],
      "text/plain": [
       "        user_id          signup_time        purchase_time  purchase_value  \\\n",
       "102223   239598  2015-01-18 11:00:53  2015-01-24 11:14:56              41   \n",
       "90032    339951  2015-06-30 03:06:09  2015-10-21 21:43:50              73   \n",
       "\n",
       "            device_id  source  browser sex  age    ip_address  class  \\\n",
       "102223  AAFBODGQYEMVK  Direct       IE   F   30  7.107753e+08      0   \n",
       "90032   AAFBODGQYEMVK  Direct  FireFox   M   33  4.000912e+09      0   \n",
       "\n",
       "       time_to_first_purchase country  seconds_to_first_purchase  \n",
       "102223        6 days 00:14:03   China                   519243.0  \n",
       "90032       113 days 18:37:41     NaN                  9830261.0  "
      ]
     },
     "execution_count": 221,
     "metadata": {},
     "output_type": "execute_result"
    }
   ],
   "source": [
    "purchase_data.loc[purchase_data[\"device_id\"].isin(['AAFBODGQYEMVK']) ].sort_values(by=['purchase_time'])"
   ]
  },
  {
   "cell_type": "markdown",
   "id": "0870513c",
   "metadata": {},
   "source": [
    "Under normal circumstances, if the same device ID is registering vastly different sex and age, would be a strong marker for fraudulent transactions. However,there are 3208 devices ID exhibiting this phenomemon but the associated transactions are not fraudulent. \n",
    "\n",
    "Thus, we cannot reliably use inconsistent sex, age, and ip as features"
   ]
  },
  {
   "cell_type": "markdown",
   "id": "77a709b9",
   "metadata": {},
   "source": [
    "we now explore "
   ]
  },
  {
   "cell_type": "code",
   "execution_count": 131,
   "id": "7a0e7662",
   "metadata": {},
   "outputs": [
    {
     "name": "stdout",
     "output_type": "stream",
     "text": [
      "['Chrome' 'FireFox' 'IE' 'Opera' 'Safari']\n",
      "obs\n",
      "[[55363 22268 33540  3348 22442]\n",
      " [ 6069  2342  3187   328  2225]]\n",
      "exp\n",
      "[[55679.15289322 22305.37753454 33287.67170708  3331.75813966\n",
      "  22357.0397255 ]\n",
      " [ 5752.84710678  2304.62246546  3439.32829292   344.24186034\n",
      "   2309.9602745 ]]\n",
      "statistic = 44.556571734650184, p = 4.916028350364759e-09, dof = 4 \n"
     ]
    }
   ],
   "source": [
    "obs_browser = np.array([purchase_data.loc[purchase_data[\"class\"] == 0  ,'browser'].value_counts().sort_index(), \n",
    "                           purchase_data.loc[purchase_data[\"class\"] == 1  ,'browser'].value_counts().sort_index() ])\n",
    "\n",
    "chi2_browser = stats.chi2_contingency(obs_browser)\n",
    "\n",
    "print(purchase_data['browser'].sort_values().unique())\n",
    "print(\"obs\")\n",
    "print(obs_browser)\n",
    "print(\"exp\")\n",
    "print(chi2_browser[3] )\n",
    "\n",
    "print( f'statistic = {chi2_browser[0]}, p = {chi2_browser[1]}, dof = {chi2_browser[2]} '  )\n",
    "\n"
   ]
  },
  {
   "cell_type": "markdown",
   "id": "e0c5a9e3",
   "metadata": {},
   "source": [
    "There is a difference in the proportion in browsers used in fraudulent transactions, thus we will use browser as a categorical feature in our model "
   ]
  },
  {
   "cell_type": "markdown",
   "id": "c2655716",
   "metadata": {},
   "source": [
    "We hypothesize that countries with poorer cybersecurity infrastructures are more likely to fall victims to fraud. We map the ip address to countries and examine if we can use country as a feature in our model"
   ]
  },
  {
   "cell_type": "code",
   "execution_count": 270,
   "id": "80a3022e",
   "metadata": {},
   "outputs": [],
   "source": [
    "country = purchase_data['ip_address'].map(lambda x: ip_data['country'].values[( x >= ip_data[\"lower_bound_ip_address\"]) & (x <= ip_data['upper_bound_ip_address'])])\n",
    "purchase_data['country'] = [i[0] if len(i) > 0 else np.nan for i in country  ]\n",
    "# purchase_data['ip_address'].loc[ purchase_data['country'].isna()].nunique()"
   ]
  },
  {
   "cell_type": "code",
   "execution_count": null,
   "id": "d80c62ae",
   "metadata": {},
   "outputs": [
    {
     "data": {
      "text/plain": [
       "21966"
      ]
     },
     "execution_count": 145,
     "metadata": {},
     "output_type": "execute_result"
    }
   ],
   "source": [
    "purchase_data['country'].isna().sum()"
   ]
  },
  {
   "cell_type": "code",
   "execution_count": 281,
   "id": "04aa567f",
   "metadata": {},
   "outputs": [
    {
     "data": {
      "text/plain": [
       "array([ True,  True,  True,  True,  True])"
      ]
     },
     "execution_count": 281,
     "metadata": {},
     "output_type": "execute_result"
    }
   ],
   "source": [
    "purchase_data.loc[purchase_data[\"class\"] == 0,'country'].dropna().value_counts()[0:5].sort_index().index == purchase_data.loc[purchase_data[\"class\"] == 1,'country'].dropna().value_counts()[0:5].sort_index().index\n",
    "\n",
    "# the top 10 countries in fraudulent transactions are the same as the top 10 countries in legitimate transactions"
   ]
  },
  {
   "cell_type": "code",
   "execution_count": 284,
   "id": "e824407e",
   "metadata": {},
   "outputs": [],
   "source": [
    "top_5_country = purchase_data.loc[purchase_data[\"class\"] == 0,'country'].dropna().value_counts()[0:5].sort_index().index.to_list()"
   ]
  },
  {
   "cell_type": "code",
   "execution_count": 285,
   "id": "6c0dd0f7",
   "metadata": {},
   "outputs": [
    {
     "data": {
      "text/plain": [
       "country\n",
       "China                0.141181\n",
       "Japan                0.084631\n",
       "Korea Republic of    0.048563\n",
       "United Kingdom       0.051529\n",
       "United States        0.674097\n",
       "Name: count, dtype: float64"
      ]
     },
     "execution_count": 285,
     "metadata": {},
     "output_type": "execute_result"
    }
   ],
   "source": [
    "purchase_data.loc[(purchase_data[\"class\"] == 0) & (purchase_data['country'].isin( top_5_country)) ,'country'].value_counts().sort_index()/((purchase_data[\"class\"] == 0) & (purchase_data['country'].isin( top_5_country)) ).sum()"
   ]
  },
  {
   "cell_type": "code",
   "execution_count": 286,
   "id": "4a8b92d1",
   "metadata": {},
   "outputs": [
    {
     "data": {
      "text/plain": [
       "country\n",
       "China                0.127725\n",
       "Japan                0.087558\n",
       "Korea Republic of    0.046534\n",
       "United Kingdom       0.058413\n",
       "United States        0.679770\n",
       "Name: count, dtype: float64"
      ]
     },
     "execution_count": 286,
     "metadata": {},
     "output_type": "execute_result"
    }
   ],
   "source": [
    "purchase_data.loc[(purchase_data[\"class\"] == 1) & (purchase_data['country'].isin( top_5_country)) ,'country'].value_counts().sort_index()/((purchase_data[\"class\"] == 1) & (purchase_data['country'].isin( top_5_country)) ).sum()"
   ]
  },
  {
   "cell_type": "code",
   "execution_count": 288,
   "id": "95127fa7",
   "metadata": {},
   "outputs": [
    {
     "data": {
      "text/plain": [
       "Chi2ContingencyResult(statistic=18.004759259298414, pvalue=0.0012314578075682384, dof=4, expected_freq=array([[10895.54770178,  6612.63262246,  3767.01026207,  4063.88180603,\n",
       "        52539.92760765],\n",
       "       [ 1142.45229822,   693.36737754,   394.98973793,   426.11819397,\n",
       "         5509.07239235]]))"
      ]
     },
     "execution_count": 288,
     "metadata": {},
     "output_type": "execute_result"
    }
   ],
   "source": [
    "obs_10_country = np.array([purchase_data.loc[(purchase_data[\"class\"] == 0 ) & (purchase_data['country'].isin( top_5_country)),'country'].value_counts().sort_index(), \n",
    "                           purchase_data.loc[(purchase_data[\"class\"] == 1 ) & (purchase_data['country'].isin( top_5_country)),'country'].value_counts().sort_index() ])\n",
    "stats.chi2_contingency(obs_10_country)"
   ]
  },
  {
   "cell_type": "markdown",
   "id": "975cfb78",
   "metadata": {},
   "source": [
    "Even though there are statistic is significant, it is relatively weak. Thus, we will not use country as a feature "
   ]
  },
  {
   "cell_type": "markdown",
   "id": "0ea62a5a",
   "metadata": {},
   "source": [
    "We hypothesize that fraudulent actors are more likely to have a specific purchase in mind than legitamate actors. Additionally, a common method monetizing stolen CC in which involves using the stolen CC to purchase gift cards. As such, fraudulent actors are more likely to both search for a specific product or directly access the specific product page meaning the purchases will have a higher chance of occurring through SEO and Direct sources. \n"
   ]
  },
  {
   "cell_type": "code",
   "execution_count": 36,
   "id": "bd8dc5e3",
   "metadata": {},
   "outputs": [
    {
     "data": {
      "text/plain": [
       "source\n",
       "SEO       0.403056\n",
       "Ads       0.396960\n",
       "Direct    0.199984\n",
       "Name: count, dtype: float64"
      ]
     },
     "execution_count": 36,
     "metadata": {},
     "output_type": "execute_result"
    }
   ],
   "source": [
    "purchase_data.loc[purchase_data[\"class\"] == 0,'source'].value_counts()/np.sum(purchase_data[\"class\"] == 0)"
   ]
  },
  {
   "cell_type": "code",
   "execution_count": 25,
   "id": "ee6e9283",
   "metadata": {},
   "outputs": [
    {
     "data": {
      "text/plain": [
       "source\n",
       "Ads       0.389584\n",
       "SEO       0.382446\n",
       "Direct    0.227970\n",
       "Name: count, dtype: float64"
      ]
     },
     "execution_count": 25,
     "metadata": {},
     "output_type": "execute_result"
    }
   ],
   "source": [
    "purchase_data.loc[purchase_data[\"class\"] == 1,'source'].value_counts()/np.sum(purchase_data[\"class\"] == 1)"
   ]
  },
  {
   "cell_type": "code",
   "execution_count": 32,
   "id": "bb4a844d",
   "metadata": {},
   "outputs": [
    {
     "data": {
      "text/plain": [
       "array([[54368, 27390, 55203],\n",
       "       [ 5513,  3226,  5412]], dtype=int64)"
      ]
     },
     "execution_count": 32,
     "metadata": {},
     "output_type": "execute_result"
    }
   ],
   "source": [
    "obs = np.array([purchase_data.loc[purchase_data[\"class\"] == 0,'source'].value_counts().sort_index().values, purchase_data.loc[purchase_data[\"class\"] == 1,'source'].value_counts().sort_index().values ])\n",
    "obs"
   ]
  },
  {
   "cell_type": "code",
   "execution_count": 35,
   "id": "ab526e0c",
   "metadata": {},
   "outputs": [
    {
     "data": {
      "text/plain": [
       "Chi2ContingencyResult(statistic=64.92317707262569, pvalue=7.981990836440143e-15, dof=2, expected_freq=array([[54273.39748663, 27748.94102388, 54938.66148949],\n",
       "       [ 5607.60251337,  2867.05897612,  5676.33851051]]))"
      ]
     },
     "execution_count": 35,
     "metadata": {},
     "output_type": "execute_result"
    }
   ],
   "source": [
    "stats.chi2_contingency(obs)"
   ]
  },
  {
   "cell_type": "markdown",
   "id": "ff6c9eaf",
   "metadata": {},
   "source": [
    "these results of the chi2-test suggest that our hypothesis is likely to be correct and that fraudulents purchases are more likely to occur through SEO and Direct"
   ]
  },
  {
   "cell_type": "markdown",
   "id": "bee01374",
   "metadata": {},
   "source": [
    "We can now construct a prediction model using the selected features. As the features are entirely binary and categorical, we do not need sophisticated models, we shall use a simple decision tree with 5 fold cross validation. "
   ]
  },
  {
   "cell_type": "code",
   "execution_count": 289,
   "id": "ebbf61fa",
   "metadata": {},
   "outputs": [],
   "source": [
    "X = pd.DataFrame({\"seconds_to_first_purchase\": purchase_data['fast_transaction'],\n",
    "    \"repeated_ip_addr\": purchase_data['repeated_ip_addr'],\n",
    "    \"repeated_device_id\": purchase_data['repeated_device_id'],\n",
    "    'source' : purchase_data['source'],\n",
    "    'browser': purchase_data['browser']\n",
    " })\n",
    "\n",
    "y = purchase_data['class']"
   ]
  },
  {
   "cell_type": "code",
   "execution_count": null,
   "id": "f9a9e7d3",
   "metadata": {},
   "outputs": [],
   "source": [
    "from sklearn.model_selection import StratifiedKFold\n",
    "from sklearn.metrics import balanced_accuracy_score, precision_score, recall_score, roc_auc_score\n",
    "from sklearn.tree import DecisionTreeClassifier"
   ]
  },
  {
   "cell_type": "code",
   "execution_count": null,
   "id": "a217dd56",
   "metadata": {},
   "outputs": [],
   "source": [
    "X[\"source\"] = X[\"source\"].astype(\"category\")\n",
    "X[\"browser\"] = X[\"browser\"].astype(\"category\")"
   ]
  },
  {
   "cell_type": "code",
   "execution_count": 309,
   "id": "5d830712",
   "metadata": {},
   "outputs": [
    {
     "name": "stdout",
     "output_type": "stream",
     "text": [
      "Fold 1 - roc_auc_score: 0.7678, Precision: 1.0000, Recall: 0.5357\n",
      "Fold 2 - roc_auc_score: 0.7642, Precision: 1.0000, Recall: 0.5284\n",
      "Fold 3 - roc_auc_score: 0.7710, Precision: 1.0000, Recall: 0.5420\n",
      "Fold 4 - roc_auc_score: 0.7724, Precision: 1.0000, Recall: 0.5449\n",
      "Fold 5 - roc_auc_score: 0.7671, Precision: 1.0000, Recall: 0.5343\n"
     ]
    }
   ],
   "source": [
    "one_hot_X = pd.get_dummies(X,drop_first=True)\n",
    "\n",
    "skf = StratifiedKFold(n_splits=5, shuffle=True, random_state=42)\n",
    "\n",
    "performance = []\n",
    "fold = 1\n",
    "for train_index, val_index in skf.split(one_hot_X, y):\n",
    "    X_train, X_val = one_hot_X.iloc[train_index], one_hot_X.iloc[val_index]\n",
    "    y_train, y_val = y[train_index], y[val_index]\n",
    "\n",
    "    clf = DecisionTreeClassifier(criterion='gini')\n",
    "    clf.fit(X_train, y_train)\n",
    "\n",
    "    y_pred = clf.predict(X_val)\n",
    "    performance.append((roc_auc_score(y_val, y_pred), precision_score(y_val, y_pred),recall_score(y_val, y_pred)))\n",
    "    print(f\"Fold {fold} - roc_auc_score: {performance[-1][0]:.4f}, Precision: {performance[-1][1]:.4f}, Recall: {performance[-1][2]:.4f}\")\n",
    "    fold += 1\n"
   ]
  },
  {
   "cell_type": "code",
   "execution_count": 319,
   "id": "342104c0",
   "metadata": {},
   "outputs": [
    {
     "data": {
      "text/plain": [
       "array([0.76853256, 1.        , 0.53706513])"
      ]
     },
     "execution_count": 319,
     "metadata": {},
     "output_type": "execute_result"
    }
   ],
   "source": [
    "np.mean(np.array(performance), axis=0)"
   ]
  },
  {
   "cell_type": "markdown",
   "id": "2c7110eb",
   "metadata": {},
   "source": [
    "With an average AUROC of 0.769, it surpassed the benchmark achieve by AFD-TFI (AUROC = 0.636) \n",
    "\n",
    "For completion sake, let also use a more complex model for maximal performance: xgboost with nested cross validation  "
   ]
  },
  {
   "cell_type": "code",
   "execution_count": 313,
   "id": "42afa132",
   "metadata": {},
   "outputs": [
    {
     "name": "stdout",
     "output_type": "stream",
     "text": [
      "Fold 1 - roc_auc_score: 0.7678, Precision: 1.0000, Recall: 0.5343\n",
      "Fold 2 - roc_auc_score: 0.7642, Precision: 1.0000, Recall: 0.5343\n",
      "Fold 3 - roc_auc_score: 0.7710, Precision: 1.0000, Recall: 0.5343\n",
      "Fold 4 - roc_auc_score: 0.7724, Precision: 1.0000, Recall: 0.5343\n",
      "Fold 5 - roc_auc_score: 0.7671, Precision: 1.0000, Recall: 0.5343\n"
     ]
    }
   ],
   "source": [
    "import xgboost as xgb\n",
    "from sklearn.model_selection import RandomizedSearchCV\n",
    "\n",
    "\n",
    "\n",
    "param_dist = {\n",
    "    'max_depth': stats.randint(3, 10),\n",
    "    'learning_rate': stats.uniform(0.01, 0.1),\n",
    "    'subsample': stats.uniform(0.5, 0.5),\n",
    "    'n_estimators':stats.randint(50, 200)\n",
    "}\n",
    "\n",
    "performance = []\n",
    "fold = 1\n",
    "\n",
    "outer_cv = StratifiedKFold(n_splits=5, shuffle=True, random_state=42)\n",
    "inner_cv = StratifiedKFold(n_splits=5, shuffle=True, random_state=42)\n",
    "\n",
    "for train_index, val_index in skf.split(X, y):\n",
    "    X_train, X_val = X.iloc[train_index], X.iloc[val_index]\n",
    "    y_train, y_val = y[train_index], y[val_index]\n",
    "\n",
    "#     clf = xgb.XGBClassifier(tree_method=\"hist\", enable_categorical=True, eval_metric='logloss')\n",
    "\n",
    "    clf = RandomizedSearchCV(\n",
    "            estimator=xgb.XGBClassifier(tree_method=\"hist\", enable_categorical=True, eval_metric='logloss'),\n",
    "            param_distributions=param_dist,\n",
    "            n_iter=10,\n",
    "            cv=inner_cv,\n",
    "            scoring='roc_auc',\n",
    "            n_jobs=-1)\n",
    "\n",
    "    clf.fit(X_train, y_train)\n",
    "\n",
    "    y_pred = clf.predict(X_val)\n",
    "    performance.append((roc_auc_score(y_val, y_pred), precision_score(y_val, y_pred),recall_score(y_val, y_pred)))\n",
    "    print(f\"Fold {fold} - roc_auc_score: {performance[-1][0]:.4f}, Precision: {performance[-1][1]:.4f}, Recall: {accuracies[-1][2]:.4f}\")\n",
    "    fold += 1\n",
    "\n"
   ]
  },
  {
   "cell_type": "markdown",
   "id": "1782bd6f",
   "metadata": {},
   "source": [
    "the differences in performance is minimal. suggesting that a with the feature engineering we performed "
   ]
  }
 ],
 "metadata": {
  "kernelspec": {
   "display_name": "finance",
   "language": "python",
   "name": "python3"
  },
  "language_info": {
   "codemirror_mode": {
    "name": "ipython",
    "version": 3
   },
   "file_extension": ".py",
   "mimetype": "text/x-python",
   "name": "python",
   "nbconvert_exporter": "python",
   "pygments_lexer": "ipython3",
   "version": "3.12.2"
  }
 },
 "nbformat": 4,
 "nbformat_minor": 5
}
